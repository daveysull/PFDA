{
 "cells": [
  {
   "cell_type": "markdown",
   "metadata": {},
   "source": [
    "## PFDA Project - Contact Center Performance Analysis\n",
    "by David O'Sullivan"
   ]
  },
  {
   "cell_type": "markdown",
   "metadata": {},
   "source": [
    "## 1. Introduction\n",
    "\n",
    "This notebook contains my analysis of PWCs contact centre data. The goal of the notebook is to analyse KPI's, spot trends and find ways to improve performance overall. The text in this notebook will be kept to a minimum as requested however some sections are more complex than others and require detailed explanations."
   ]
  },
  {
   "cell_type": "code",
   "execution_count": 37,
   "metadata": {},
   "outputs": [],
   "source": [
    "# Import Libraries\n",
    "import pandas as pd\n",
    "import matplotlib.pyplot as plt\n",
    "import seaborn as sns"
   ]
  },
  {
   "cell_type": "markdown",
   "metadata": {},
   "source": [
    "## Data Loading from MySQL\n",
    "\n",
    "The code below is used to connect to a database I created in MySQL. As this is a public notebook I created a config file containing any sensitive information. I was unable to find a config file so created one within my terminal via bash scripts.\n",
    "\n",
    "The next step was using mysql.connector.connect to establish a connection to the MySQL database. This was the most straightforawd step as we did this during the semester. As I only needed to run one straightforward query there was no need to create a cursor. Instead I defined the query and ran it with the connection to load it into the pandas dataframe (df = pd.read_sql(query, connection))\n",
    "\n",
    "When originally running the code everything looked okay except for the time column. This was coming up as \"0 days\" followed by the time. I decided the best way to handle this was to use lambda to convert the column to a string and then slice it to only show the time section of the rows [7:15], excluding \"0 Days\". I'd be unable to analyse the data properly with time as a string so dt.time is used in the data preperation section to rectify this.\n",
    "\n",
    "Refs:\n",
    "\n",
    "Create INI config file : https://www.quora.com/How-do-you-create-an-INI-config-file\n",
    "\n",
    "Connecting MySQL Using Connector : https://dev.mysql.com/doc/connector-python/en/connector-python-example-connecting.html\n",
    "\n",
    "pd.read_sql : https://blog.panoply.io/how-to-read-a-sql-query-into-a-pandas-dataframe\n",
    "\n",
    "lambda to change data type : https://stackoverflow.com/questions/51341532/want-to-use-a-lambda-function-to-change-the-type-of-a-cell-if-it-is-type-float\n",
    "\n"
   ]
  },
  {
   "cell_type": "code",
   "execution_count": 99,
   "metadata": {},
   "outputs": [
    {
     "name": "stderr",
     "output_type": "stream",
     "text": [
      "/var/folders/0d/mbrvmyx10n92tdtbjzgv0tjm0000gn/T/ipykernel_51527/3994963931.py:29: UserWarning: pandas only supports SQLAlchemy connectable (engine/connection) or database string URI or sqlite3 DBAPI2 connection. Other DBAPI2 objects are not tested. Please consider using SQLAlchemy.\n",
      "  df = pd.read_sql(query, connection)\n"
     ]
    },
    {
     "data": {
      "text/html": [
       "<div>\n",
       "<style scoped>\n",
       "    .dataframe tbody tr th:only-of-type {\n",
       "        vertical-align: middle;\n",
       "    }\n",
       "\n",
       "    .dataframe tbody tr th {\n",
       "        vertical-align: top;\n",
       "    }\n",
       "\n",
       "    .dataframe thead th {\n",
       "        text-align: right;\n",
       "    }\n",
       "</style>\n",
       "<table border=\"1\" class=\"dataframe\">\n",
       "  <thead>\n",
       "    <tr style=\"text-align: right;\">\n",
       "      <th></th>\n",
       "      <th>call_id</th>\n",
       "      <th>agent</th>\n",
       "      <th>date</th>\n",
       "      <th>time</th>\n",
       "      <th>topic</th>\n",
       "      <th>answered</th>\n",
       "      <th>resolved</th>\n",
       "      <th>speed_of_answer_in_seconds</th>\n",
       "      <th>avg_talk_duration</th>\n",
       "      <th>satisfaction_rating</th>\n",
       "    </tr>\n",
       "  </thead>\n",
       "  <tbody>\n",
       "    <tr>\n",
       "      <th>0</th>\n",
       "      <td>ID0001</td>\n",
       "      <td>Diane</td>\n",
       "      <td>2021-01-01</td>\n",
       "      <td>09:12:58</td>\n",
       "      <td>Contract related</td>\n",
       "      <td>Y</td>\n",
       "      <td>Y</td>\n",
       "      <td>109.0</td>\n",
       "      <td>0:02:23</td>\n",
       "      <td>3.0</td>\n",
       "    </tr>\n",
       "    <tr>\n",
       "      <th>1</th>\n",
       "      <td>ID0002</td>\n",
       "      <td>Becky</td>\n",
       "      <td>2021-01-01</td>\n",
       "      <td>09:12:58</td>\n",
       "      <td>Technical Support</td>\n",
       "      <td>Y</td>\n",
       "      <td>N</td>\n",
       "      <td>70.0</td>\n",
       "      <td>0:04:02</td>\n",
       "      <td>3.0</td>\n",
       "    </tr>\n",
       "    <tr>\n",
       "      <th>2</th>\n",
       "      <td>ID0003</td>\n",
       "      <td>Stewart</td>\n",
       "      <td>2021-01-01</td>\n",
       "      <td>09:47:31</td>\n",
       "      <td>Contract related</td>\n",
       "      <td>Y</td>\n",
       "      <td>Y</td>\n",
       "      <td>10.0</td>\n",
       "      <td>0:02:11</td>\n",
       "      <td>3.0</td>\n",
       "    </tr>\n",
       "    <tr>\n",
       "      <th>3</th>\n",
       "      <td>ID0004</td>\n",
       "      <td>Greg</td>\n",
       "      <td>2021-01-01</td>\n",
       "      <td>09:47:31</td>\n",
       "      <td>Contract related</td>\n",
       "      <td>Y</td>\n",
       "      <td>Y</td>\n",
       "      <td>53.0</td>\n",
       "      <td>0:00:37</td>\n",
       "      <td>2.0</td>\n",
       "    </tr>\n",
       "    <tr>\n",
       "      <th>4</th>\n",
       "      <td>ID0005</td>\n",
       "      <td>Becky</td>\n",
       "      <td>2021-01-01</td>\n",
       "      <td>10:00:29</td>\n",
       "      <td>Payment related</td>\n",
       "      <td>Y</td>\n",
       "      <td>Y</td>\n",
       "      <td>95.0</td>\n",
       "      <td>0:01:00</td>\n",
       "      <td>3.0</td>\n",
       "    </tr>\n",
       "  </tbody>\n",
       "</table>\n",
       "</div>"
      ],
      "text/plain": [
       "  call_id    agent        date      time              topic answered resolved  \\\n",
       "0  ID0001    Diane  2021-01-01  09:12:58   Contract related        Y        Y   \n",
       "1  ID0002    Becky  2021-01-01  09:12:58  Technical Support        Y        N   \n",
       "2  ID0003  Stewart  2021-01-01  09:47:31   Contract related        Y        Y   \n",
       "3  ID0004     Greg  2021-01-01  09:47:31   Contract related        Y        Y   \n",
       "4  ID0005    Becky  2021-01-01  10:00:29    Payment related        Y        Y   \n",
       "\n",
       "   speed_of_answer_in_seconds avg_talk_duration  satisfaction_rating  \n",
       "0                       109.0           0:02:23                  3.0  \n",
       "1                        70.0           0:04:02                  3.0  \n",
       "2                        10.0           0:02:11                  3.0  \n",
       "3                        53.0           0:00:37                  2.0  \n",
       "4                        95.0           0:01:00                  3.0  "
      ]
     },
     "execution_count": 99,
     "metadata": {},
     "output_type": "execute_result"
    }
   ],
   "source": [
    "import mysql.connector\n",
    "from configparser import ConfigParser\n",
    "\n",
    "# Define the path to config file\n",
    "config_path = '/Users/davidosullivan/Documents/my_project/config_files/config.ini'\n",
    "\n",
    "# Read the config.ini file\n",
    "config = ConfigParser()\n",
    "config.read(config_path)\n",
    "\n",
    "# Retrieve the database connection details\n",
    "host = config.get('mysql', 'host')\n",
    "user = config.get('mysql', 'user')\n",
    "password = config.get('mysql', 'password')\n",
    "database = config.get('mysql', 'database')\n",
    "\n",
    "# Connect to the database\n",
    "connection = mysql.connector.connect(\n",
    "    host=host,\n",
    "    user=user,\n",
    "    password=password,\n",
    "    database=database\n",
    ")\n",
    "\n",
    "# Query to retrieve all data\n",
    "query = \"SELECT * FROM call_data\"\n",
    "\n",
    "# Load the data into a pandas DataFrame\n",
    "df = pd.read_sql(query, connection)\n",
    "\n",
    "# Close the connection to the database\n",
    "connection.close()\n",
    "\n",
    "# Convert the 'time' column to a string in the format HH:MM:SS (Removing the unneccessary sting data 0:7)\n",
    "df['time'] = df['time'].apply(lambda x: str(x)[7:15])\n",
    "\n",
    "df.head()\n"
   ]
  },
  {
   "cell_type": "code",
   "execution_count": 100,
   "metadata": {},
   "outputs": [
    {
     "data": {
      "text/html": [
       "<div>\n",
       "<style scoped>\n",
       "    .dataframe tbody tr th:only-of-type {\n",
       "        vertical-align: middle;\n",
       "    }\n",
       "\n",
       "    .dataframe tbody tr th {\n",
       "        vertical-align: top;\n",
       "    }\n",
       "\n",
       "    .dataframe thead th {\n",
       "        text-align: right;\n",
       "    }\n",
       "</style>\n",
       "<table border=\"1\" class=\"dataframe\">\n",
       "  <thead>\n",
       "    <tr style=\"text-align: right;\">\n",
       "      <th></th>\n",
       "      <th>call_id</th>\n",
       "      <th>agent</th>\n",
       "      <th>time</th>\n",
       "      <th>topic</th>\n",
       "      <th>answered</th>\n",
       "      <th>resolved</th>\n",
       "      <th>speed_of_answer_in_seconds</th>\n",
       "      <th>avg_talk_duration</th>\n",
       "      <th>satisfaction_rating</th>\n",
       "    </tr>\n",
       "    <tr>\n",
       "      <th>date</th>\n",
       "      <th></th>\n",
       "      <th></th>\n",
       "      <th></th>\n",
       "      <th></th>\n",
       "      <th></th>\n",
       "      <th></th>\n",
       "      <th></th>\n",
       "      <th></th>\n",
       "      <th></th>\n",
       "    </tr>\n",
       "  </thead>\n",
       "  <tbody>\n",
       "    <tr>\n",
       "      <th>2021-01-01</th>\n",
       "      <td>ID0001</td>\n",
       "      <td>Diane</td>\n",
       "      <td>09:12:58</td>\n",
       "      <td>Contract related</td>\n",
       "      <td>Y</td>\n",
       "      <td>Y</td>\n",
       "      <td>109.0</td>\n",
       "      <td>0:02:23</td>\n",
       "      <td>3.0</td>\n",
       "    </tr>\n",
       "    <tr>\n",
       "      <th>2021-01-01</th>\n",
       "      <td>ID0002</td>\n",
       "      <td>Becky</td>\n",
       "      <td>09:12:58</td>\n",
       "      <td>Technical Support</td>\n",
       "      <td>Y</td>\n",
       "      <td>N</td>\n",
       "      <td>70.0</td>\n",
       "      <td>0:04:02</td>\n",
       "      <td>3.0</td>\n",
       "    </tr>\n",
       "    <tr>\n",
       "      <th>2021-01-01</th>\n",
       "      <td>ID0003</td>\n",
       "      <td>Stewart</td>\n",
       "      <td>09:47:31</td>\n",
       "      <td>Contract related</td>\n",
       "      <td>Y</td>\n",
       "      <td>Y</td>\n",
       "      <td>10.0</td>\n",
       "      <td>0:02:11</td>\n",
       "      <td>3.0</td>\n",
       "    </tr>\n",
       "    <tr>\n",
       "      <th>2021-01-01</th>\n",
       "      <td>ID0004</td>\n",
       "      <td>Greg</td>\n",
       "      <td>09:47:31</td>\n",
       "      <td>Contract related</td>\n",
       "      <td>Y</td>\n",
       "      <td>Y</td>\n",
       "      <td>53.0</td>\n",
       "      <td>0:00:37</td>\n",
       "      <td>2.0</td>\n",
       "    </tr>\n",
       "    <tr>\n",
       "      <th>2021-01-01</th>\n",
       "      <td>ID0005</td>\n",
       "      <td>Becky</td>\n",
       "      <td>10:00:29</td>\n",
       "      <td>Payment related</td>\n",
       "      <td>Y</td>\n",
       "      <td>Y</td>\n",
       "      <td>95.0</td>\n",
       "      <td>0:01:00</td>\n",
       "      <td>3.0</td>\n",
       "    </tr>\n",
       "  </tbody>\n",
       "</table>\n",
       "</div>"
      ],
      "text/plain": [
       "           call_id    agent      time              topic answered resolved  \\\n",
       "date                                                                         \n",
       "2021-01-01  ID0001    Diane  09:12:58   Contract related        Y        Y   \n",
       "2021-01-01  ID0002    Becky  09:12:58  Technical Support        Y        N   \n",
       "2021-01-01  ID0003  Stewart  09:47:31   Contract related        Y        Y   \n",
       "2021-01-01  ID0004     Greg  09:47:31   Contract related        Y        Y   \n",
       "2021-01-01  ID0005    Becky  10:00:29    Payment related        Y        Y   \n",
       "\n",
       "            speed_of_answer_in_seconds avg_talk_duration  satisfaction_rating  \n",
       "date                                                                           \n",
       "2021-01-01                       109.0           0:02:23                  3.0  \n",
       "2021-01-01                        70.0           0:04:02                  3.0  \n",
       "2021-01-01                        10.0           0:02:11                  3.0  \n",
       "2021-01-01                        53.0           0:00:37                  2.0  \n",
       "2021-01-01                        95.0           0:01:00                  3.0  "
      ]
     },
     "execution_count": 100,
     "metadata": {},
     "output_type": "execute_result"
    }
   ],
   "source": [
    "# Set Index\n",
    "df.set_index('date', inplace=True)\n",
    "df.head()"
   ]
  },
  {
   "cell_type": "markdown",
   "metadata": {},
   "source": [
    "## 2. Data Preperation"
   ]
  },
  {
   "cell_type": "markdown",
   "metadata": {},
   "source": [
    "Additional column converting average talk duration from minutes to seconds is needed for future analysis.\n",
    "\n",
    "Refs:\n",
    "\n",
    "https://stackoverflow.com/questions/5522031/convert-timedelta-to-total-seconds\n",
    "\n",
    "https://pandas.pydata.org/docs/reference/api/pandas.Series.dt.total_seconds.html"
   ]
  },
  {
   "cell_type": "code",
   "execution_count": 102,
   "metadata": {},
   "outputs": [],
   "source": [
    "# Ensure 'AvgTalkDuration' is in string format\n",
    "df['avg_talk_duration'] = df['avg_talk_duration'].astype(str)\n",
    "\n",
    "# Convert 'AvgTalkDuration' to seconds\n",
    "df['avg_talk_duration_seconds'] = pd.to_timedelta(df['avg_talk_duration']).dt.total_seconds()\n"
   ]
  },
  {
   "cell_type": "markdown",
   "metadata": {},
   "source": [
    "There are three columns with 946 null values each. When running df.head(50) there is a clear trend where the null values are coming from, when the call isn't answered. Neither dropna() or fillna() would be benificial for analysis so null values are kept as is."
   ]
  },
  {
   "cell_type": "code",
   "execution_count": 103,
   "metadata": {},
   "outputs": [
    {
     "data": {
      "text/plain": [
       "call_id                         0\n",
       "agent                           0\n",
       "time                            0\n",
       "topic                           0\n",
       "answered                        0\n",
       "resolved                        0\n",
       "speed_of_answer_in_seconds      0\n",
       "avg_talk_duration               0\n",
       "satisfaction_rating             1\n",
       "avg_talk_duration_seconds     946\n",
       "dtype: int64"
      ]
     },
     "execution_count": 103,
     "metadata": {},
     "output_type": "execute_result"
    }
   ],
   "source": [
    "# Check are there null values to deal with\n",
    "df.isnull().sum()"
   ]
  },
  {
   "cell_type": "code",
   "execution_count": 104,
   "metadata": {},
   "outputs": [
    {
     "data": {
      "text/plain": [
       "0"
      ]
     },
     "execution_count": 104,
     "metadata": {},
     "output_type": "execute_result"
    }
   ],
   "source": [
    "# Check for duplicates\n",
    "duplicates = df.duplicated().sum()\n",
    "duplicates"
   ]
  },
  {
   "cell_type": "code",
   "execution_count": 105,
   "metadata": {},
   "outputs": [
    {
     "data": {
      "text/html": [
       "<div>\n",
       "<style scoped>\n",
       "    .dataframe tbody tr th:only-of-type {\n",
       "        vertical-align: middle;\n",
       "    }\n",
       "\n",
       "    .dataframe tbody tr th {\n",
       "        vertical-align: top;\n",
       "    }\n",
       "\n",
       "    .dataframe thead th {\n",
       "        text-align: right;\n",
       "    }\n",
       "</style>\n",
       "<table border=\"1\" class=\"dataframe\">\n",
       "  <thead>\n",
       "    <tr style=\"text-align: right;\">\n",
       "      <th></th>\n",
       "      <th>agent</th>\n",
       "      <th>time</th>\n",
       "      <th>topic</th>\n",
       "      <th>answered</th>\n",
       "      <th>resolved</th>\n",
       "      <th>speed_of_answer_in_seconds</th>\n",
       "      <th>avg_talk_duration</th>\n",
       "      <th>satisfaction_rating</th>\n",
       "      <th>avg_talk_duration_seconds</th>\n",
       "    </tr>\n",
       "    <tr>\n",
       "      <th>date</th>\n",
       "      <th></th>\n",
       "      <th></th>\n",
       "      <th></th>\n",
       "      <th></th>\n",
       "      <th></th>\n",
       "      <th></th>\n",
       "      <th></th>\n",
       "      <th></th>\n",
       "      <th></th>\n",
       "    </tr>\n",
       "  </thead>\n",
       "  <tbody>\n",
       "    <tr>\n",
       "      <th>2021-01-01</th>\n",
       "      <td>Diane</td>\n",
       "      <td>09:12:58</td>\n",
       "      <td>Contract related</td>\n",
       "      <td>Y</td>\n",
       "      <td>Y</td>\n",
       "      <td>109.0</td>\n",
       "      <td>0:02:23</td>\n",
       "      <td>3.0</td>\n",
       "      <td>143.0</td>\n",
       "    </tr>\n",
       "    <tr>\n",
       "      <th>2021-01-01</th>\n",
       "      <td>Becky</td>\n",
       "      <td>09:12:58</td>\n",
       "      <td>Technical Support</td>\n",
       "      <td>Y</td>\n",
       "      <td>N</td>\n",
       "      <td>70.0</td>\n",
       "      <td>0:04:02</td>\n",
       "      <td>3.0</td>\n",
       "      <td>242.0</td>\n",
       "    </tr>\n",
       "    <tr>\n",
       "      <th>2021-01-01</th>\n",
       "      <td>Stewart</td>\n",
       "      <td>09:47:31</td>\n",
       "      <td>Contract related</td>\n",
       "      <td>Y</td>\n",
       "      <td>Y</td>\n",
       "      <td>10.0</td>\n",
       "      <td>0:02:11</td>\n",
       "      <td>3.0</td>\n",
       "      <td>131.0</td>\n",
       "    </tr>\n",
       "    <tr>\n",
       "      <th>2021-01-01</th>\n",
       "      <td>Greg</td>\n",
       "      <td>09:47:31</td>\n",
       "      <td>Contract related</td>\n",
       "      <td>Y</td>\n",
       "      <td>Y</td>\n",
       "      <td>53.0</td>\n",
       "      <td>0:00:37</td>\n",
       "      <td>2.0</td>\n",
       "      <td>37.0</td>\n",
       "    </tr>\n",
       "    <tr>\n",
       "      <th>2021-01-01</th>\n",
       "      <td>Becky</td>\n",
       "      <td>10:00:29</td>\n",
       "      <td>Payment related</td>\n",
       "      <td>Y</td>\n",
       "      <td>Y</td>\n",
       "      <td>95.0</td>\n",
       "      <td>0:01:00</td>\n",
       "      <td>3.0</td>\n",
       "      <td>60.0</td>\n",
       "    </tr>\n",
       "  </tbody>\n",
       "</table>\n",
       "</div>"
      ],
      "text/plain": [
       "              agent      time              topic answered resolved  \\\n",
       "date                                                                 \n",
       "2021-01-01    Diane  09:12:58   Contract related        Y        Y   \n",
       "2021-01-01    Becky  09:12:58  Technical Support        Y        N   \n",
       "2021-01-01  Stewart  09:47:31   Contract related        Y        Y   \n",
       "2021-01-01     Greg  09:47:31   Contract related        Y        Y   \n",
       "2021-01-01    Becky  10:00:29    Payment related        Y        Y   \n",
       "\n",
       "            speed_of_answer_in_seconds avg_talk_duration  satisfaction_rating  \\\n",
       "date                                                                            \n",
       "2021-01-01                       109.0           0:02:23                  3.0   \n",
       "2021-01-01                        70.0           0:04:02                  3.0   \n",
       "2021-01-01                        10.0           0:02:11                  3.0   \n",
       "2021-01-01                        53.0           0:00:37                  2.0   \n",
       "2021-01-01                        95.0           0:01:00                  3.0   \n",
       "\n",
       "            avg_talk_duration_seconds  \n",
       "date                                   \n",
       "2021-01-01                      143.0  \n",
       "2021-01-01                      242.0  \n",
       "2021-01-01                      131.0  \n",
       "2021-01-01                       37.0  \n",
       "2021-01-01                       60.0  "
      ]
     },
     "execution_count": 105,
     "metadata": {},
     "output_type": "execute_result"
    }
   ],
   "source": [
    "# Drop Irrelevant Columns\n",
    "df = df.drop(columns=['call_id'])\n",
    "df.head()"
   ]
  },
  {
   "cell_type": "markdown",
   "metadata": {},
   "source": [
    "An additional column putting time of day into categories is needed for future analysis. This is done by combining pandas datetime function with IF, ELIF and ELSE statements.\n",
    "\n",
    "Refs:\n",
    "\n",
    "https://stackoverflow.com/questions/32375471/pandas-convert-strings-to-time-without-date\n",
    "\n",
    "\n",
    "https://stackoverflow.com/questions/32113707/how-would-i-put-an-if-statement-inside-a-function"
   ]
  },
  {
   "cell_type": "code",
   "execution_count": 106,
   "metadata": {},
   "outputs": [
    {
     "data": {
      "text/html": [
       "<div>\n",
       "<style scoped>\n",
       "    .dataframe tbody tr th:only-of-type {\n",
       "        vertical-align: middle;\n",
       "    }\n",
       "\n",
       "    .dataframe tbody tr th {\n",
       "        vertical-align: top;\n",
       "    }\n",
       "\n",
       "    .dataframe thead th {\n",
       "        text-align: right;\n",
       "    }\n",
       "</style>\n",
       "<table border=\"1\" class=\"dataframe\">\n",
       "  <thead>\n",
       "    <tr style=\"text-align: right;\">\n",
       "      <th></th>\n",
       "      <th>agent</th>\n",
       "      <th>time</th>\n",
       "      <th>topic</th>\n",
       "      <th>answered</th>\n",
       "      <th>resolved</th>\n",
       "      <th>speed_of_answer_in_seconds</th>\n",
       "      <th>avg_talk_duration</th>\n",
       "      <th>satisfaction_rating</th>\n",
       "      <th>avg_talk_duration_seconds</th>\n",
       "      <th>time_of_day_category</th>\n",
       "    </tr>\n",
       "    <tr>\n",
       "      <th>date</th>\n",
       "      <th></th>\n",
       "      <th></th>\n",
       "      <th></th>\n",
       "      <th></th>\n",
       "      <th></th>\n",
       "      <th></th>\n",
       "      <th></th>\n",
       "      <th></th>\n",
       "      <th></th>\n",
       "      <th></th>\n",
       "    </tr>\n",
       "  </thead>\n",
       "  <tbody>\n",
       "    <tr>\n",
       "      <th>2021-01-01</th>\n",
       "      <td>Diane</td>\n",
       "      <td>09:12:58</td>\n",
       "      <td>Contract related</td>\n",
       "      <td>Y</td>\n",
       "      <td>Y</td>\n",
       "      <td>109.0</td>\n",
       "      <td>0:02:23</td>\n",
       "      <td>3.0</td>\n",
       "      <td>143.0</td>\n",
       "      <td>Morning</td>\n",
       "    </tr>\n",
       "  </tbody>\n",
       "</table>\n",
       "</div>"
      ],
      "text/plain": [
       "            agent      time             topic answered resolved  \\\n",
       "date                                                              \n",
       "2021-01-01  Diane  09:12:58  Contract related        Y        Y   \n",
       "\n",
       "            speed_of_answer_in_seconds avg_talk_duration  satisfaction_rating  \\\n",
       "date                                                                            \n",
       "2021-01-01                       109.0           0:02:23                  3.0   \n",
       "\n",
       "            avg_talk_duration_seconds time_of_day_category  \n",
       "date                                                        \n",
       "2021-01-01                      143.0              Morning  "
      ]
     },
     "execution_count": 106,
     "metadata": {},
     "output_type": "execute_result"
    }
   ],
   "source": [
    "# Ensure in datetime format\n",
    "df['time'] = pd.to_datetime(df['time'], format='%H:%M:%S').dt.time\n",
    "\n",
    "# Define a function to categorize the time\n",
    "def categorise_time(time):\n",
    "    if time >= pd.to_datetime('09:00:00').time() and time < pd.to_datetime('12:00:00').time():\n",
    "        return 'Morning'\n",
    "    elif time >= pd.to_datetime('12:00:00').time() and time < pd.to_datetime('15:00:00').time():\n",
    "        return 'Afternoon'\n",
    "    elif time >= pd.to_datetime('15:00:00').time() and time < pd.to_datetime('18:00:00').time():\n",
    "        return 'Evening'\n",
    "    else:\n",
    "        return 'Night'\n",
    "\n",
    "# Apply the function to create a new column\n",
    "df['time_of_day_category'] = df['time'].apply(categorise_time)\n",
    "\n",
    "# Display the first row to ensure the categorization\n",
    "df.head(1)\n"
   ]
  },
  {
   "cell_type": "code",
   "execution_count": 74,
   "metadata": {},
   "outputs": [
    {
     "data": {
      "text/plain": [
       "count    4054.000000\n",
       "mean      224.922792\n",
       "std       111.381555\n",
       "min        30.000000\n",
       "25%       130.000000\n",
       "50%       226.000000\n",
       "75%       319.000000\n",
       "max       420.000000\n",
       "Name: avg_talk_duration_seconds, dtype: float64"
      ]
     },
     "execution_count": 74,
     "metadata": {},
     "output_type": "execute_result"
    }
   ],
   "source": [
    "df['avg_talk_duration_seconds'].describe()"
   ]
  },
  {
   "cell_type": "markdown",
   "metadata": {},
   "source": [
    "## Section 2 - EDA"
   ]
  },
  {
   "cell_type": "code",
   "execution_count": null,
   "metadata": {},
   "outputs": [
    {
     "name": "stdout",
     "output_type": "stream",
     "text": [
      "<class 'pandas.core.frame.DataFrame'>\n",
      "Index: 5000 entries, 2021-01-01 to 2021-03-31\n",
      "Data columns (total 10 columns):\n",
      " #   Column                      Non-Null Count  Dtype  \n",
      "---  ------                      --------------  -----  \n",
      " 0   agent                       5000 non-null   object \n",
      " 1   time                        5000 non-null   object \n",
      " 2   topic                       5000 non-null   object \n",
      " 3   answered (y/n)              5000 non-null   object \n",
      " 4   resolved                    5000 non-null   object \n",
      " 5   speed of answer in seconds  4054 non-null   float64\n",
      " 6   avgtalkduration             5000 non-null   object \n",
      " 7   satisfaction rating         4054 non-null   float64\n",
      " 8   avgtalkduration_seconds     4054 non-null   float64\n",
      " 9   time_of_day_category        5000 non-null   object \n",
      "dtypes: float64(3), object(7)\n",
      "memory usage: 429.7+ KB\n"
     ]
    }
   ],
   "source": [
    "df.info()"
   ]
  },
  {
   "cell_type": "code",
   "execution_count": null,
   "metadata": {},
   "outputs": [
    {
     "data": {
      "text/html": [
       "<div>\n",
       "<style scoped>\n",
       "    .dataframe tbody tr th:only-of-type {\n",
       "        vertical-align: middle;\n",
       "    }\n",
       "\n",
       "    .dataframe tbody tr th {\n",
       "        vertical-align: top;\n",
       "    }\n",
       "\n",
       "    .dataframe thead th {\n",
       "        text-align: right;\n",
       "    }\n",
       "</style>\n",
       "<table border=\"1\" class=\"dataframe\">\n",
       "  <thead>\n",
       "    <tr style=\"text-align: right;\">\n",
       "      <th></th>\n",
       "      <th>speed of answer in seconds</th>\n",
       "      <th>satisfaction rating</th>\n",
       "      <th>avgtalkduration_seconds</th>\n",
       "    </tr>\n",
       "  </thead>\n",
       "  <tbody>\n",
       "    <tr>\n",
       "      <th>count</th>\n",
       "      <td>4054.000000</td>\n",
       "      <td>4054.000000</td>\n",
       "      <td>4054.000000</td>\n",
       "    </tr>\n",
       "    <tr>\n",
       "      <th>mean</th>\n",
       "      <td>67.520720</td>\n",
       "      <td>3.403552</td>\n",
       "      <td>224.922792</td>\n",
       "    </tr>\n",
       "    <tr>\n",
       "      <th>std</th>\n",
       "      <td>33.592872</td>\n",
       "      <td>1.212220</td>\n",
       "      <td>111.381555</td>\n",
       "    </tr>\n",
       "    <tr>\n",
       "      <th>min</th>\n",
       "      <td>10.000000</td>\n",
       "      <td>1.000000</td>\n",
       "      <td>30.000000</td>\n",
       "    </tr>\n",
       "    <tr>\n",
       "      <th>25%</th>\n",
       "      <td>39.000000</td>\n",
       "      <td>3.000000</td>\n",
       "      <td>130.000000</td>\n",
       "    </tr>\n",
       "    <tr>\n",
       "      <th>50%</th>\n",
       "      <td>68.000000</td>\n",
       "      <td>3.000000</td>\n",
       "      <td>226.000000</td>\n",
       "    </tr>\n",
       "    <tr>\n",
       "      <th>75%</th>\n",
       "      <td>97.000000</td>\n",
       "      <td>4.000000</td>\n",
       "      <td>319.000000</td>\n",
       "    </tr>\n",
       "    <tr>\n",
       "      <th>max</th>\n",
       "      <td>125.000000</td>\n",
       "      <td>5.000000</td>\n",
       "      <td>420.000000</td>\n",
       "    </tr>\n",
       "  </tbody>\n",
       "</table>\n",
       "</div>"
      ],
      "text/plain": [
       "       speed of answer in seconds  satisfaction rating  \\\n",
       "count                 4054.000000          4054.000000   \n",
       "mean                    67.520720             3.403552   \n",
       "std                     33.592872             1.212220   \n",
       "min                     10.000000             1.000000   \n",
       "25%                     39.000000             3.000000   \n",
       "50%                     68.000000             3.000000   \n",
       "75%                     97.000000             4.000000   \n",
       "max                    125.000000             5.000000   \n",
       "\n",
       "       avgtalkduration_seconds  \n",
       "count              4054.000000  \n",
       "mean                224.922792  \n",
       "std                 111.381555  \n",
       "min                  30.000000  \n",
       "25%                 130.000000  \n",
       "50%                 226.000000  \n",
       "75%                 319.000000  \n",
       "max                 420.000000  "
      ]
     },
     "execution_count": 14,
     "metadata": {},
     "output_type": "execute_result"
    }
   ],
   "source": [
    "df.describe()"
   ]
  },
  {
   "cell_type": "code",
   "execution_count": null,
   "metadata": {},
   "outputs": [
    {
     "data": {
      "text/html": [
       "<div>\n",
       "<style scoped>\n",
       "    .dataframe tbody tr th:only-of-type {\n",
       "        vertical-align: middle;\n",
       "    }\n",
       "\n",
       "    .dataframe tbody tr th {\n",
       "        vertical-align: top;\n",
       "    }\n",
       "\n",
       "    .dataframe thead th {\n",
       "        text-align: right;\n",
       "    }\n",
       "</style>\n",
       "<table border=\"1\" class=\"dataframe\">\n",
       "  <thead>\n",
       "    <tr style=\"text-align: right;\">\n",
       "      <th></th>\n",
       "      <th>speed of answer in seconds</th>\n",
       "      <th>avgtalkduration_seconds</th>\n",
       "      <th>satisfaction rating</th>\n",
       "    </tr>\n",
       "  </thead>\n",
       "  <tbody>\n",
       "    <tr>\n",
       "      <th>speed of answer in seconds</th>\n",
       "      <td>1.000000</td>\n",
       "      <td>-0.002898</td>\n",
       "      <td>0.000952</td>\n",
       "    </tr>\n",
       "    <tr>\n",
       "      <th>avgtalkduration_seconds</th>\n",
       "      <td>-0.002898</td>\n",
       "      <td>1.000000</td>\n",
       "      <td>0.000143</td>\n",
       "    </tr>\n",
       "    <tr>\n",
       "      <th>satisfaction rating</th>\n",
       "      <td>0.000952</td>\n",
       "      <td>0.000143</td>\n",
       "      <td>1.000000</td>\n",
       "    </tr>\n",
       "  </tbody>\n",
       "</table>\n",
       "</div>"
      ],
      "text/plain": [
       "                            speed of answer in seconds  \\\n",
       "speed of answer in seconds                    1.000000   \n",
       "avgtalkduration_seconds                      -0.002898   \n",
       "satisfaction rating                           0.000952   \n",
       "\n",
       "                            avgtalkduration_seconds  satisfaction rating  \n",
       "speed of answer in seconds                -0.002898             0.000952  \n",
       "avgtalkduration_seconds                    1.000000             0.000143  \n",
       "satisfaction rating                        0.000143             1.000000  "
      ]
     },
     "execution_count": 15,
     "metadata": {},
     "output_type": "execute_result"
    }
   ],
   "source": [
    "# Compute the correlation matrix \n",
    "columns_to_correlate = ['speed of answer in seconds','avgtalkduration_seconds', 'satisfaction rating']\n",
    "correlation_matrix = df[columns_to_correlate].corr()\n",
    "correlation_matrix"
   ]
  },
  {
   "cell_type": "code",
   "execution_count": 75,
   "metadata": {},
   "outputs": [
    {
     "data": {
      "text/html": [
       "<div>\n",
       "<style scoped>\n",
       "    .dataframe tbody tr th:only-of-type {\n",
       "        vertical-align: middle;\n",
       "    }\n",
       "\n",
       "    .dataframe tbody tr th {\n",
       "        vertical-align: top;\n",
       "    }\n",
       "\n",
       "    .dataframe thead th {\n",
       "        text-align: right;\n",
       "    }\n",
       "</style>\n",
       "<table border=\"1\" class=\"dataframe\">\n",
       "  <thead>\n",
       "    <tr style=\"text-align: right;\">\n",
       "      <th></th>\n",
       "      <th>agent</th>\n",
       "      <th>time</th>\n",
       "      <th>topic</th>\n",
       "      <th>answered</th>\n",
       "      <th>resolved</th>\n",
       "      <th>speed_of_answer_in_seconds</th>\n",
       "      <th>avg_talk_duration</th>\n",
       "      <th>satisfaction_rating</th>\n",
       "      <th>avg_talk_duration_seconds</th>\n",
       "      <th>time_of_day_category</th>\n",
       "    </tr>\n",
       "    <tr>\n",
       "      <th>date</th>\n",
       "      <th></th>\n",
       "      <th></th>\n",
       "      <th></th>\n",
       "      <th></th>\n",
       "      <th></th>\n",
       "      <th></th>\n",
       "      <th></th>\n",
       "      <th></th>\n",
       "      <th></th>\n",
       "      <th></th>\n",
       "    </tr>\n",
       "  </thead>\n",
       "  <tbody>\n",
       "    <tr>\n",
       "      <th>2021-01-01</th>\n",
       "      <td>Diane</td>\n",
       "      <td>09:12:58</td>\n",
       "      <td>Contract related</td>\n",
       "      <td>Y</td>\n",
       "      <td>Y</td>\n",
       "      <td>109.0</td>\n",
       "      <td>0:02:23</td>\n",
       "      <td>3.0</td>\n",
       "      <td>143.0</td>\n",
       "      <td>Morning</td>\n",
       "    </tr>\n",
       "    <tr>\n",
       "      <th>2021-01-01</th>\n",
       "      <td>Becky</td>\n",
       "      <td>09:12:58</td>\n",
       "      <td>Technical Support</td>\n",
       "      <td>Y</td>\n",
       "      <td>N</td>\n",
       "      <td>70.0</td>\n",
       "      <td>0:04:02</td>\n",
       "      <td>3.0</td>\n",
       "      <td>242.0</td>\n",
       "      <td>Morning</td>\n",
       "    </tr>\n",
       "    <tr>\n",
       "      <th>2021-01-01</th>\n",
       "      <td>Stewart</td>\n",
       "      <td>09:47:31</td>\n",
       "      <td>Contract related</td>\n",
       "      <td>Y</td>\n",
       "      <td>Y</td>\n",
       "      <td>10.0</td>\n",
       "      <td>0:02:11</td>\n",
       "      <td>3.0</td>\n",
       "      <td>131.0</td>\n",
       "      <td>Morning</td>\n",
       "    </tr>\n",
       "    <tr>\n",
       "      <th>2021-01-01</th>\n",
       "      <td>Greg</td>\n",
       "      <td>09:47:31</td>\n",
       "      <td>Contract related</td>\n",
       "      <td>Y</td>\n",
       "      <td>Y</td>\n",
       "      <td>53.0</td>\n",
       "      <td>0:00:37</td>\n",
       "      <td>2.0</td>\n",
       "      <td>37.0</td>\n",
       "      <td>Morning</td>\n",
       "    </tr>\n",
       "    <tr>\n",
       "      <th>2021-01-01</th>\n",
       "      <td>Becky</td>\n",
       "      <td>10:00:29</td>\n",
       "      <td>Payment related</td>\n",
       "      <td>Y</td>\n",
       "      <td>Y</td>\n",
       "      <td>95.0</td>\n",
       "      <td>0:01:00</td>\n",
       "      <td>3.0</td>\n",
       "      <td>60.0</td>\n",
       "      <td>Morning</td>\n",
       "    </tr>\n",
       "  </tbody>\n",
       "</table>\n",
       "</div>"
      ],
      "text/plain": [
       "              agent      time              topic answered resolved  \\\n",
       "date                                                                 \n",
       "2021-01-01    Diane  09:12:58   Contract related        Y        Y   \n",
       "2021-01-01    Becky  09:12:58  Technical Support        Y        N   \n",
       "2021-01-01  Stewart  09:47:31   Contract related        Y        Y   \n",
       "2021-01-01     Greg  09:47:31   Contract related        Y        Y   \n",
       "2021-01-01    Becky  10:00:29    Payment related        Y        Y   \n",
       "\n",
       "            speed_of_answer_in_seconds avg_talk_duration  satisfaction_rating  \\\n",
       "date                                                                            \n",
       "2021-01-01                       109.0           0:02:23                  3.0   \n",
       "2021-01-01                        70.0           0:04:02                  3.0   \n",
       "2021-01-01                        10.0           0:02:11                  3.0   \n",
       "2021-01-01                        53.0           0:00:37                  2.0   \n",
       "2021-01-01                        95.0           0:01:00                  3.0   \n",
       "\n",
       "            avg_talk_duration_seconds time_of_day_category  \n",
       "date                                                        \n",
       "2021-01-01                      143.0              Morning  \n",
       "2021-01-01                      242.0              Morning  \n",
       "2021-01-01                      131.0              Morning  \n",
       "2021-01-01                       37.0              Morning  \n",
       "2021-01-01                       60.0              Morning  "
      ]
     },
     "execution_count": 75,
     "metadata": {},
     "output_type": "execute_result"
    }
   ],
   "source": [
    "df.head()"
   ]
  },
  {
   "cell_type": "markdown",
   "metadata": {},
   "source": [
    "## Business Insights Section\n",
    "\n",
    "This is the main section of my analysis and it is broken into three seperate parts;\n",
    "\n",
    "1) Resolution Rate & Unanswered Calls: Unanswered calls automatically make an issue unresolved so they are paired together for part one. In this section I explore if there is a trend to calls not being answered. After finding that trend I dive deeper into the data by doing some root cause analysis (RCA). PWC at a minimum should be aiming to answer every call which will then also improve the resolution rate. The resolution rate isn't soley dependent on calls being answered so I perform some additional analysis focusing on Agents & Topics looking for areas to focus on improving.\n",
    "\n",
    "2) Customer Satisfaction: In the next part of my analysis I take a look at the customer satisfaction rating. This rating is on a scale of 1-5. PWC aim for excellence when it comes to customer service so in this section I analyse the data to pinpoint ways they can get this score as close to 5/5 consistently.\n",
    "\n",
    "3) Predictive Analysis: In the final section I use predictive analysis to showcase to PWC what things will likely look like if adjustments aren't made. I use ML libraries to predict future unanswered calls as well as satisfaction ratings.\n",
    "\n"
   ]
  },
  {
   "cell_type": "markdown",
   "metadata": {},
   "source": [
    "## Business Insights Part 1 - Resolution Rate & Unanswered Calls \n",
    "\n",
    "\n"
   ]
  },
  {
   "cell_type": "markdown",
   "metadata": {},
   "source": [
    "## Resolution Rate & Unanswered Calls\n",
    "\n",
    "\n",
    "\n",
    "\n",
    "#### References\n",
    "\n",
    "https://matplotlib.org/stable/api/_as_gen/matplotlib.axes.Axes.bar_label.html\n",
    "\n"
   ]
  },
  {
   "cell_type": "markdown",
   "metadata": {},
   "source": [
    "#### Resolved Issues %"
   ]
  },
  {
   "cell_type": "code",
   "execution_count": 76,
   "metadata": {},
   "outputs": [
    {
     "data": {
      "text/plain": [
       "'Percentage of resolved issues: 73%'"
      ]
     },
     "execution_count": 76,
     "metadata": {},
     "output_type": "execute_result"
    }
   ],
   "source": [
    "# Resolved Issues %\n",
    "\n",
    "\n",
    "# Calculate total issues\n",
    "total_issues = df['resolved'].count()\n",
    "\n",
    "# Count resolved issues\n",
    "resolved_issues = (df['resolved'] == 'Y').sum()\n",
    "\n",
    "# Calculate the percentage\n",
    "percentage_resolved = (resolved_issues / total_issues) * 100\n",
    "\n",
    "(f\"Percentage of resolved issues: {percentage_resolved:.0f}%\")\n"
   ]
  },
  {
   "cell_type": "markdown",
   "metadata": {},
   "source": [
    "#### Visualise Resolved Vs Unresolved Issues"
   ]
  },
  {
   "cell_type": "code",
   "execution_count": 77,
   "metadata": {},
   "outputs": [
    {
     "data": {
      "image/png": "[encoded data removed]",
      "text/plain": [
       "<Figure size 800x600 with 1 Axes>"
      ]
     },
     "metadata": {},
     "output_type": "display_data"
    }
   ],
   "source": [
    "counts = df['resolved'].value_counts()\n",
    "\n",
    "# Create a bar chart\n",
    "fig, ax = plt.subplots(figsize=(8, 6))\n",
    "bars = ax.bar(counts.index, counts.values)\n",
    "\n",
    "# Add count labels to the bars\n",
    "ax.bar_label(bars, fmt='%g', fontsize=10)\n",
    "\n",
    "# Formatting the plot\n",
    "ax.set_title('Resolved Vs Unresolved')\n",
    "ax.set_xlabel('')\n",
    "ax.set_ylabel('# of Calls')\n",
    "ax.grid(axis='y', linestyle='--')\n",
    "\n",
    "plt.show()"
   ]
  },
  {
   "cell_type": "markdown",
   "metadata": {},
   "source": [
    "#### Resolution Rate by Topic, Agent & Time of Day"
   ]
  },
  {
   "cell_type": "markdown",
   "metadata": {},
   "source": [
    "When looking at the resolution rates by topic and agent there isn't much that stands out, there isn't a major difference between the highest and lowest percentages."
   ]
  },
  {
   "cell_type": "code",
   "execution_count": 78,
   "metadata": {},
   "outputs": [
    {
     "name": "stdout",
     "output_type": "stream",
     "text": [
      "Resolution Rate by Topic:\n",
      " topic\n",
      "Admin Support        74.1\n",
      "Contract related     72.6\n",
      "Payment related      72.4\n",
      "Streaming            73.3\n",
      "Technical Support    72.2\n",
      "Name: resolved, dtype: float64\n",
      "\n",
      "Resolution Rate by Agent:\n",
      " agent\n",
      "Becky      73.2\n",
      "Dan        74.4\n",
      "Diane      71.4\n",
      "Greg       72.9\n",
      "Jim        72.8\n",
      "Joe        73.5\n",
      "Martha     72.3\n",
      "Stewart    72.9\n",
      "Name: resolved, dtype: float64\n"
     ]
    }
   ],
   "source": [
    "# Calculate resolution rates by topic\n",
    "resolution_by_topic = df.groupby('topic')['resolved'].apply(lambda x: (x == 'Y').mean() * 100).round(1)\n",
    "\n",
    "# Calculate resolution rates by agent\n",
    "resolution_by_agent = df.groupby('agent')['resolved'].apply(lambda x: (x == 'Y').mean() * 100).round(1)\n",
    "\n",
    "# Display insights\n",
    "print(\"Resolution Rate by Topic:\\n\", resolution_by_topic)\n",
    "print(\"\\nResolution Rate by Agent:\\n\", resolution_by_agent)\n"
   ]
  },
  {
   "cell_type": "markdown",
   "metadata": {},
   "source": [
    "#### Unanswered Calls by Agent & Time of Day - Over 50% of unanswered calls are in the afternoon"
   ]
  },
  {
   "cell_type": "code",
   "execution_count": 80,
   "metadata": {},
   "outputs": [
    {
     "name": "stdout",
     "output_type": "stream",
     "text": [
      "Unanswered Calls by Agent:\n",
      " agent\n",
      "Becky      114\n",
      "Dan        110\n",
      "Diane      132\n",
      "Greg       122\n",
      "Jim        130\n",
      "Joe        109\n",
      "Martha     124\n",
      "Stewart    105\n",
      "dtype: int64\n",
      "\n",
      "Unanswered Calls by Time of Day:\n",
      " time_of_day_category\n",
      "Afternoon    319\n",
      "Evening      308\n",
      "Morning      317\n",
      "Night          2\n",
      "dtype: int64\n"
     ]
    }
   ],
   "source": [
    "# Unanswered call rate by agent\n",
    "unanswered_by_agent = df[df['answered'] == 'N'].groupby('agent').size()\n",
    "\n",
    "# Unanswered call rate by time of day\n",
    "unanswered_by_time = df[df['answered'] == 'N'].groupby('time_of_day_category').size()\n",
    "\n",
    "# Display insights\n",
    "print(\"Unanswered Calls by Agent:\\n\", unanswered_by_agent)\n",
    "print(\"\\nUnanswered Calls by Time of Day:\\n\", unanswered_by_time)\n"
   ]
  },
  {
   "cell_type": "markdown",
   "metadata": {},
   "source": [
    "## Unanswered Calls - Root Cause Analysis"
   ]
  },
  {
   "cell_type": "markdown",
   "metadata": {},
   "source": [
    "The below visual shows that the call volume in the afternoon is substantially greater than the volume of calls in the evening and morning time. \n",
    "\n",
    "Looking at this visual it indicates that the more calls that come in the more that aren't being answered. This is why below the visual I looked at the correlation between the volume of calls and unanswered calls. The correlation was 0.99 which shows that there is a strong positive relationship between the two.\n",
    "\n",
    "I did this by creating the variable 'time_of_day_summary' which groups the time of day category and completes an aggregate function, in this case .sum(). Wiithin this variable I had to define total_calls with the count function and unanswered_calls using lambda. The lambda function creates a Boolean series, every 'N' value is True (or 1 numerically). The sum function the adds these together to provide the total number of unanswered calls."
   ]
  },
  {
   "cell_type": "code",
   "execution_count": 81,
   "metadata": {},
   "outputs": [
    {
     "data": {
      "image/png": "[encoded data removed]",
      "text/plain": [
       "<Figure size 800x600 with 1 Axes>"
      ]
     },
     "metadata": {},
     "output_type": "display_data"
    }
   ],
   "source": [
    "day_counts = df['time_of_day_category'].value_counts()\n",
    "\n",
    "# Create a bar chart\n",
    "fig, ax = plt.subplots(figsize=(8, 6))\n",
    "bars = ax.bar(day_counts.index, day_counts.values)\n",
    "\n",
    "# Add count labels to the bars\n",
    "ax.bar_label(bars, fmt='%g', fontsize=10)\n",
    "\n",
    "# Formatting the plot\n",
    "ax.set_title('Call Volume by Time of Day')\n",
    "ax.set_xlabel('')\n",
    "ax.set_ylabel('# of Calls')\n",
    "ax.grid(axis='y', linestyle='--')\n",
    "\n",
    "plt.show()"
   ]
  },
  {
   "cell_type": "code",
   "execution_count": 82,
   "metadata": {},
   "outputs": [
    {
     "data": {
      "image/png": "[encoded data removed]",
      "text/plain": [
       "<Figure size 800x600 with 1 Axes>"
      ]
     },
     "metadata": {},
     "output_type": "display_data"
    }
   ],
   "source": [
    "day_counts = df['agent'].value_counts()\n",
    "\n",
    "# Create a bar chart\n",
    "fig, ax = plt.subplots(figsize=(8, 6))\n",
    "bars = ax.bar(day_counts.index, day_counts.values)\n",
    "\n",
    "# Add count labels to the bars\n",
    "ax.bar_label(bars, fmt='%g', fontsize=10)\n",
    "\n",
    "# Formatting the plot\n",
    "ax.set_title('Call Volume by Time of Day')\n",
    "ax.set_xlabel('')\n",
    "ax.set_ylabel('# of Calls')\n",
    "ax.grid(axis='y', linestyle='--')\n",
    "\n",
    "plt.show()"
   ]
  },
  {
   "cell_type": "markdown",
   "metadata": {},
   "source": [
    "#### Correlation "
   ]
  },
  {
   "cell_type": "code",
   "execution_count": 84,
   "metadata": {},
   "outputs": [
    {
     "name": "stdout",
     "output_type": "stream",
     "text": [
      "Correlation between total calls and unanswered calls by time of day: 0.9988\n"
     ]
    }
   ],
   "source": [
    "# Group data by time of day to calculate total and unanswered calls\n",
    "time_of_day_summary = df.groupby('time_of_day_category').agg(total_calls=('answered', 'count'),unanswered_calls=('answered', lambda x: (x == 'N').sum()))\n",
    "\n",
    "# Compute correlation\n",
    "correlation_time_of_day = time_of_day_summary['total_calls'].corr(time_of_day_summary['unanswered_calls']).round(5)\n",
    "\n",
    "print(\"Correlation between total calls and unanswered calls by time of day:\", correlation_time_of_day)\n"
   ]
  },
  {
   "cell_type": "markdown",
   "metadata": {},
   "source": [
    "The below analysis shows that there is close to no relationship between speed of answer and resolved issues as well as call duration and satisfaction rating.\n",
    "\n",
    "#### Refs:\n",
    "lambda w/ if statement : https://stackoverflow.com/questions/1585322/is-there-a-way-to-perform-if-in-pythons-lambda"
   ]
  },
  {
   "cell_type": "code",
   "execution_count": 88,
   "metadata": {},
   "outputs": [
    {
     "name": "stdout",
     "output_type": "stream",
     "text": [
      "Correlation between speed of answer and resolved issues: 0.52498\n",
      "Correlation between call duration and satisfaction rating: 0.00014\n"
     ]
    }
   ],
   "source": [
    "# Correlation between speed of answer and resolution rate\n",
    "df['resolved_numeric'] = df['resolved'].apply(lambda x: 1 if x == 'Y' else 0)\n",
    "correlation_speed_resolution = df['speed_of_answer_in_seconds'].corr(df['resolved_numeric']).round(5)\n",
    "\n",
    "# Correlation between satisfaction and talk duration\n",
    "correlation_satisfaction_duration = df['avg_talk_duration_seconds'].corr(df['satisfaction_rating']).round(5)\n",
    "\n",
    "\n",
    "print(\"Correlation between speed of answer and resolved issues:\", correlation_speed_resolution)\n",
    "print(\"Correlation between call duration and satisfaction rating:\", correlation_satisfaction_duration)\n",
    "\n"
   ]
  },
  {
   "cell_type": "markdown",
   "metadata": {},
   "source": [
    "## Predictive Analysis - What do the future numbers of unanswered calls look like?\n",
    "\n",
    "\n",
    "#### References\n"
   ]
  },
  {
   "cell_type": "markdown",
   "metadata": {},
   "source": [
    "#### Reminder \n",
    "\n",
    "- Check afternoon resolution rate\n",
    "- Are there certain days where individual employees rack up most of their unanswered calls?"
   ]
  },
  {
   "cell_type": "markdown",
   "metadata": {},
   "source": []
  },
  {
   "cell_type": "markdown",
   "metadata": {},
   "source": [
    "#### Resolution Rate Across all Times"
   ]
  },
  {
   "cell_type": "code",
   "execution_count": 91,
   "metadata": {},
   "outputs": [],
   "source": [
    "# Average Speed of Answer for Answered Calls in the Afternoon\n",
    "afternoon_answered = df[(df['time_of_day_category'] == 'Afternoon') & (df['answered'] == 'Y')]\n",
    "afternoon_speed_of_answer = afternoon_answered['speed_of_answer_in_seconds'].mean()"
   ]
  },
  {
   "cell_type": "markdown",
   "metadata": {},
   "source": [
    "## Business Insights Part 2 - Customer Satisfaction\n",
    "\n",
    "\n",
    "\n",
    "#### References\n",
    "\n"
   ]
  },
  {
   "cell_type": "markdown",
   "metadata": {},
   "source": [
    "#### Satisfaction by Resolution Status, Topic, Call Duration & Time of Day\n",
    "\n",
    "** Key Callout here is that even when issues aren't resolved the average satisfaction score is still greater than the score where issues are resolved."
   ]
  },
  {
   "cell_type": "code",
   "execution_count": 93,
   "metadata": {},
   "outputs": [
    {
     "name": "stdout",
     "output_type": "stream",
     "text": [
      "Satisfaction by Resolution:\n",
      " resolved\n",
      "N    1.033999\n",
      "Y    3.400713\n",
      "Name: satisfaction_rating, dtype: float64\n",
      "\n",
      "Satisfaction by Topic:\n",
      " topic\n",
      "Admin Support        2.790984\n",
      "Contract related     2.733333\n",
      "Payment related      2.758689\n",
      "Streaming            2.819961\n",
      "Technical Support    2.697743\n",
      "Name: satisfaction_rating, dtype: float64\n",
      "\n",
      "Correlation between Call Duration and Satisfaction: 0.00\n",
      "Satisfaction By Time of Day:\n",
      " time_of_day_category\n",
      "Afternoon    2.695732\n",
      "Evening      2.768314\n",
      "Morning      2.812725\n",
      "Night        3.071429\n",
      "Name: satisfaction_rating, dtype: float64\n"
     ]
    }
   ],
   "source": [
    "# Satisfaction by resolution status\n",
    "satisfaction_by_resolution = df.groupby('resolved')['satisfaction_rating'].mean()\n",
    "\n",
    "# Satisfaction by topic\n",
    "satisfaction_by_topic = df.groupby('topic')['satisfaction_rating'].mean()\n",
    "\n",
    "# Satisfaction by call duration\n",
    "satisfaction_by_duration = df['avg_talk_duration_seconds'].corr(df['satisfaction_rating'])\n",
    "\n",
    "# Satisfaction by Time of Day\n",
    "satisfaction_by_time = df.groupby('time_of_day_category')['satisfaction_rating'].mean()\n",
    "\n",
    "print(\"Satisfaction by Resolution:\\n\", satisfaction_by_resolution)\n",
    "print(\"\\nSatisfaction by Topic:\\n\", satisfaction_by_topic)\n",
    "print(f\"\\nCorrelation between Call Duration and Satisfaction: {satisfaction_by_duration:.2f}\")\n",
    "print(\"Satisfaction By Time of Day:\\n\", satisfaction_by_time )\n"
   ]
  },
  {
   "cell_type": "markdown",
   "metadata": {},
   "source": [
    "#### Top & Bottom Performing Agents by Topics\n",
    "\n",
    "When comparing the top performers to those at the bottom, the difference in average satisfaction rating is tiny and doesn't provide much insights."
   ]
  },
  {
   "cell_type": "code",
   "execution_count": 96,
   "metadata": {},
   "outputs": [
    {
     "name": "stdout",
     "output_type": "stream",
     "text": [
      "Above Average:\n",
      " Empty DataFrame\n",
      "Columns: [agent, topic, satisfaction_rating]\n",
      "Index: []\n",
      "Below Average:\n",
      "      agent              topic  satisfaction_rating\n",
      "1    Becky   Contract related             2.508772\n",
      "34  Martha  Technical Support             2.550725\n",
      "24     Jim  Technical Support             2.580882\n",
      "27     Joe    Payment related             2.629032\n",
      "11   Diane   Contract related             2.631148\n"
     ]
    }
   ],
   "source": [
    "# Agents by Topic Performers below Average\n",
    "agent_topic_rating = df.groupby(['agent', 'topic'])['satisfaction_rating'].mean()\n",
    "agent_topic_rating_df = agent_topic_rating.reset_index()\n",
    "agent_topic_below_avg = agent_topic_rating_df[agent_topic_rating_df['satisfaction_rating'] < 3.4].sort_values('satisfaction_rating')\n",
    "\n",
    "agent_topic_above_avg = agent_topic_rating_df[agent_topic_rating_df['satisfaction_rating'] > 3.4].sort_values('satisfaction_rating')\n",
    "\n",
    "print('Above Average:\\n', agent_topic_above_avg.tail())\n",
    "print('Below Average:\\n', agent_topic_below_avg.head())"
   ]
  },
  {
   "cell_type": "markdown",
   "metadata": {},
   "source": [
    "#### References for Visuals\n",
    "\n",
    "https://pandas.pydata.org/docs/reference/api/pandas.to_datetime.html\n",
    "\n",
    "https://pandas.pydata.org/docs/reference/api/pandas.DataFrame.resample.html\n",
    "\n",
    "https://www.geeksforgeeks.org/python-pandas-dataframe-resample/"
   ]
  },
  {
   "cell_type": "code",
   "execution_count": 98,
   "metadata": {},
   "outputs": [
    {
     "data": {
      "image/png": "[encoded data removed]",
      "text/plain": [
       "<Figure size 1000x600 with 1 Axes>"
      ]
     },
     "metadata": {},
     "output_type": "display_data"
    }
   ],
   "source": [
    "import matplotlib.pyplot as plt\n",
    "import pandas as pd\n",
    "\n",
    "# Ensure the index is of datetime type\n",
    "df.index = pd.to_datetime(df.index)\n",
    "\n",
    "# Resample the data to calculate the daily mean \n",
    "daily_average = df['satisfaction_rating'].resample('D').mean()\n",
    "\n",
    "# Plotting and title\n",
    "daily_average.plot(kind='line', figsize=(10, 6), title=\"Average Daily Satisfaction Rating Over Time\")\n",
    "\n",
    "# Adding labels\n",
    "plt.xlabel(\"Date\")\n",
    "plt.ylabel(\"Average Satisfaction Rating\")\n",
    "plt.grid(True)\n",
    "\n",
    "# Display the plot\n",
    "plt.show()\n"
   ]
  },
  {
   "cell_type": "code",
   "execution_count": null,
   "metadata": {},
   "outputs": [],
   "source": [
    "df.to_excel('/Users/davidosullivan/Desktop/ATU_DataAnalytics_Semester2/test.xlsx')"
   ]
  }
 ],
 "metadata": {
  "kernelspec": {
   "display_name": "Python 3",
   "language": "python",
   "name": "python3"
  },
  "language_info": {
   "codemirror_mode": {
    "name": "ipython",
    "version": 3
   },
   "file_extension": ".py",
   "mimetype": "text/x-python",
   "name": "python",
   "nbconvert_exporter": "python",
   "pygments_lexer": "ipython3",
   "version": "3.11.1"
  }
 },
 "nbformat": 4,
 "nbformat_minor": 2
}
