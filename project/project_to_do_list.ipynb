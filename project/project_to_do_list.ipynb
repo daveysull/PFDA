{
 "cells": [
  {
   "cell_type": "markdown",
   "metadata": {},
   "source": []
  },
  {
   "cell_type": "markdown",
   "metadata": {},
   "source": [
    "#### Notebook w/ to do notes for Project"
   ]
  },
  {
   "cell_type": "markdown",
   "metadata": {},
   "source": [
    "## Project Layout\n",
    "\n",
    "#### 1) Summary of analysis - Breakdown of findings and recommendations\n",
    "\n",
    "#### 2) Load and Clean Data\n",
    "\n",
    "#### 3) EDA\n",
    "\n",
    "#### 4) Business insights Main Section\n",
    "a) Resolution Rate & Unanswered Calls - Dive into Topics and Agents focusing on the afternoon (3 Visuals Minimum)\n",
    "- Agent X struggles with topic Y, training or additional staff will be the solution\n",
    "\n",
    "b) Customer Satisfaction - Line Plot to see if any trends for time of year (maybe do the same for time of day?)\n",
    "- Average customer satisfactiion score is less than 4/5. Good but needs improvement\n",
    "- Does the visual show certain times of year/day when they're lower. Is it related to the duration of the call?\n",
    "- Are the ratings driven by certain topics/agents?\n",
    "\n",
    "c) Predictive Analysis - Use sklearn to predict future unanswered calls\n",
    "- From our analysis the number of unanswered calls will be X, to get ahead of this we recommend Y"
   ]
  },
  {
   "cell_type": "markdown",
   "metadata": {},
   "source": [
    "Showcase what was done throughout the semester\n",
    "- Pandas\n",
    "- Different Plots\n",
    "- Manipulating Data\n",
    "- sklearn\n",
    "- Regular Expressions\n",
    "- Generating Random Data"
   ]
  },
  {
   "cell_type": "markdown",
   "metadata": {},
   "source": [
    "- Visualise call volume by time of day (bar chart)\n",
    "- Get agents Afternoon resolution rates, whos struggling?\n",
    "- Visualise ^^^^^\n",
    "- Get topics Afternoon resolution rates\n",
    "- Visualise ^^^^^\n",
    "- Customer Satifaction Rates Mean Vs Afternoon\n",
    "- Visualise ^^^^^\n",
    "\n",
    "Additional Analysis\n",
    "- t-Tests for resolution rate and time of day \n",
    "- sklearn - Predict unanswered calls"
   ]
  },
  {
   "cell_type": "markdown",
   "metadata": {},
   "source": [
    "#### References \n",
    "\n",
    "Predictive Analysis: https://www.osedea.com/insight/streamlining-predictive-analytics-with-scikit-learn\n",
    "\n"
   ]
  }
 ],
 "metadata": {
  "language_info": {
   "name": "python"
  }
 },
 "nbformat": 4,
 "nbformat_minor": 2
}
