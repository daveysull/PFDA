{
 "cells": [
  {
   "cell_type": "markdown",
   "metadata": {},
   "source": [
    "## PFDA Project - Contact Center Performance Analysis"
   ]
  },
  {
   "cell_type": "code",
   "execution_count": 1,
   "metadata": {},
   "outputs": [],
   "source": [
    "# Import Libraries\n",
    "import pandas as pd\n",
    "import matplotlib.pyplot as plt\n",
    "import seaborn as sns"
   ]
  },
  {
   "cell_type": "code",
   "execution_count": 2,
   "metadata": {},
   "outputs": [
    {
     "data": {
      "text/html": [
       "<div>\n",
       "<style scoped>\n",
       "    .dataframe tbody tr th:only-of-type {\n",
       "        vertical-align: middle;\n",
       "    }\n",
       "\n",
       "    .dataframe tbody tr th {\n",
       "        vertical-align: top;\n",
       "    }\n",
       "\n",
       "    .dataframe thead th {\n",
       "        text-align: right;\n",
       "    }\n",
       "</style>\n",
       "<table border=\"1\" class=\"dataframe\">\n",
       "  <thead>\n",
       "    <tr style=\"text-align: right;\">\n",
       "      <th></th>\n",
       "      <th>Call Id</th>\n",
       "      <th>Agent</th>\n",
       "      <th>Time</th>\n",
       "      <th>Topic</th>\n",
       "      <th>Answered (Y/N)</th>\n",
       "      <th>Resolved</th>\n",
       "      <th>Speed of answer in seconds</th>\n",
       "      <th>AvgTalkDuration</th>\n",
       "      <th>Satisfaction rating</th>\n",
       "    </tr>\n",
       "    <tr>\n",
       "      <th>Date</th>\n",
       "      <th></th>\n",
       "      <th></th>\n",
       "      <th></th>\n",
       "      <th></th>\n",
       "      <th></th>\n",
       "      <th></th>\n",
       "      <th></th>\n",
       "      <th></th>\n",
       "      <th></th>\n",
       "    </tr>\n",
       "  </thead>\n",
       "  <tbody>\n",
       "    <tr>\n",
       "      <th>2021-01-01</th>\n",
       "      <td>ID0001</td>\n",
       "      <td>Diane</td>\n",
       "      <td>09:12:58</td>\n",
       "      <td>Contract related</td>\n",
       "      <td>Y</td>\n",
       "      <td>Y</td>\n",
       "      <td>109.0</td>\n",
       "      <td>00:02:23</td>\n",
       "      <td>3.0</td>\n",
       "    </tr>\n",
       "    <tr>\n",
       "      <th>2021-01-01</th>\n",
       "      <td>ID0002</td>\n",
       "      <td>Becky</td>\n",
       "      <td>09:12:58</td>\n",
       "      <td>Technical Support</td>\n",
       "      <td>Y</td>\n",
       "      <td>N</td>\n",
       "      <td>70.0</td>\n",
       "      <td>00:04:02</td>\n",
       "      <td>3.0</td>\n",
       "    </tr>\n",
       "    <tr>\n",
       "      <th>2021-01-01</th>\n",
       "      <td>ID0003</td>\n",
       "      <td>Stewart</td>\n",
       "      <td>09:47:31</td>\n",
       "      <td>Contract related</td>\n",
       "      <td>Y</td>\n",
       "      <td>Y</td>\n",
       "      <td>10.0</td>\n",
       "      <td>00:02:11</td>\n",
       "      <td>3.0</td>\n",
       "    </tr>\n",
       "    <tr>\n",
       "      <th>2021-01-01</th>\n",
       "      <td>ID0004</td>\n",
       "      <td>Greg</td>\n",
       "      <td>09:47:31</td>\n",
       "      <td>Contract related</td>\n",
       "      <td>Y</td>\n",
       "      <td>Y</td>\n",
       "      <td>53.0</td>\n",
       "      <td>00:00:37</td>\n",
       "      <td>2.0</td>\n",
       "    </tr>\n",
       "    <tr>\n",
       "      <th>2021-01-01</th>\n",
       "      <td>ID0005</td>\n",
       "      <td>Becky</td>\n",
       "      <td>10:00:29</td>\n",
       "      <td>Payment related</td>\n",
       "      <td>Y</td>\n",
       "      <td>Y</td>\n",
       "      <td>95.0</td>\n",
       "      <td>00:01:00</td>\n",
       "      <td>3.0</td>\n",
       "    </tr>\n",
       "  </tbody>\n",
       "</table>\n",
       "</div>"
      ],
      "text/plain": [
       "           Call Id    Agent      Time              Topic Answered (Y/N)  \\\n",
       "Date                                                                      \n",
       "2021-01-01  ID0001    Diane  09:12:58   Contract related              Y   \n",
       "2021-01-01  ID0002    Becky  09:12:58  Technical Support              Y   \n",
       "2021-01-01  ID0003  Stewart  09:47:31   Contract related              Y   \n",
       "2021-01-01  ID0004     Greg  09:47:31   Contract related              Y   \n",
       "2021-01-01  ID0005    Becky  10:00:29    Payment related              Y   \n",
       "\n",
       "           Resolved  Speed of answer in seconds AvgTalkDuration  \\\n",
       "Date                                                              \n",
       "2021-01-01        Y                       109.0        00:02:23   \n",
       "2021-01-01        N                        70.0        00:04:02   \n",
       "2021-01-01        Y                        10.0        00:02:11   \n",
       "2021-01-01        Y                        53.0        00:00:37   \n",
       "2021-01-01        Y                        95.0        00:01:00   \n",
       "\n",
       "            Satisfaction rating  \n",
       "Date                             \n",
       "2021-01-01                  3.0  \n",
       "2021-01-01                  3.0  \n",
       "2021-01-01                  3.0  \n",
       "2021-01-01                  2.0  \n",
       "2021-01-01                  3.0  "
      ]
     },
     "execution_count": 2,
     "metadata": {},
     "output_type": "execute_result"
    }
   ],
   "source": [
    "# Import Data & Set Index\n",
    "df = pd.read_excel('pwc_call_centre_data.xlsx')\n",
    "df.set_index('Date', inplace=True)\n",
    "df.head()"
   ]
  },
  {
   "cell_type": "code",
   "execution_count": 4,
   "metadata": {},
   "outputs": [],
   "source": [
    "# Convert all column names to lowercase\n",
    "df.columns = df.columns.str.lower()\n"
   ]
  },
  {
   "cell_type": "markdown",
   "metadata": {},
   "source": [
    "## Section 1 - Data Cleaning"
   ]
  },
  {
   "cell_type": "markdown",
   "metadata": {},
   "source": [
    "To analyse the data efficiently and see if there is a correlation between speed of answer in seconds and AvgTalkDuration they most both be in seconds. Pandas documentation shows how to convert minutes into seconds https://pandas.pydata.org/docs/reference/api/pandas.Series.dt.total_seconds.html\n",
    "\n",
    "Besides AverageTalkDuration the other data types are in order so no more adjustments to be made."
   ]
  },
  {
   "cell_type": "code",
   "execution_count": 5,
   "metadata": {},
   "outputs": [],
   "source": [
    "# Ensure 'AvgTalkDuration' is in string format\n",
    "df['avgtalkduration'] = df['avgtalkduration'].astype(str)\n",
    "\n",
    "# Convert 'AvgTalkDuration' to seconds\n",
    "df['avgtalkduration_seconds'] = pd.to_timedelta(df['avgtalkduration']).dt.total_seconds()\n"
   ]
  },
  {
   "cell_type": "markdown",
   "metadata": {},
   "source": [
    "There are three columns with 946 null values each. When running df.head(50) there is a clear trend where the null values are coming from, when the call isn't answered. Neither dropna() or fillna() would be benificial for analysis so null values are being kept as is."
   ]
  },
  {
   "cell_type": "code",
   "execution_count": 6,
   "metadata": {},
   "outputs": [
    {
     "data": {
      "text/plain": [
       "call id                         0\n",
       "agent                           0\n",
       "time                            0\n",
       "topic                           0\n",
       "answered (y/n)                  0\n",
       "resolved                        0\n",
       "speed of answer in seconds    946\n",
       "avgtalkduration                 0\n",
       "satisfaction rating           946\n",
       "avgtalkduration_seconds       946\n",
       "dtype: int64"
      ]
     },
     "execution_count": 6,
     "metadata": {},
     "output_type": "execute_result"
    }
   ],
   "source": [
    "# Check are there null values to deal with\n",
    "df.isnull().sum()"
   ]
  },
  {
   "cell_type": "code",
   "execution_count": 7,
   "metadata": {},
   "outputs": [
    {
     "data": {
      "text/plain": [
       "0"
      ]
     },
     "execution_count": 7,
     "metadata": {},
     "output_type": "execute_result"
    }
   ],
   "source": [
    "# Check for duplicates\n",
    "duplicates = df.duplicated().sum()\n",
    "duplicates"
   ]
  },
  {
   "cell_type": "code",
   "execution_count": 8,
   "metadata": {},
   "outputs": [
    {
     "data": {
      "text/html": [
       "<div>\n",
       "<style scoped>\n",
       "    .dataframe tbody tr th:only-of-type {\n",
       "        vertical-align: middle;\n",
       "    }\n",
       "\n",
       "    .dataframe tbody tr th {\n",
       "        vertical-align: top;\n",
       "    }\n",
       "\n",
       "    .dataframe thead th {\n",
       "        text-align: right;\n",
       "    }\n",
       "</style>\n",
       "<table border=\"1\" class=\"dataframe\">\n",
       "  <thead>\n",
       "    <tr style=\"text-align: right;\">\n",
       "      <th></th>\n",
       "      <th>agent</th>\n",
       "      <th>time</th>\n",
       "      <th>topic</th>\n",
       "      <th>answered (y/n)</th>\n",
       "      <th>resolved</th>\n",
       "      <th>speed of answer in seconds</th>\n",
       "      <th>avgtalkduration</th>\n",
       "      <th>satisfaction rating</th>\n",
       "      <th>avgtalkduration_seconds</th>\n",
       "    </tr>\n",
       "    <tr>\n",
       "      <th>Date</th>\n",
       "      <th></th>\n",
       "      <th></th>\n",
       "      <th></th>\n",
       "      <th></th>\n",
       "      <th></th>\n",
       "      <th></th>\n",
       "      <th></th>\n",
       "      <th></th>\n",
       "      <th></th>\n",
       "    </tr>\n",
       "  </thead>\n",
       "  <tbody>\n",
       "    <tr>\n",
       "      <th>2021-01-01</th>\n",
       "      <td>Diane</td>\n",
       "      <td>09:12:58</td>\n",
       "      <td>Contract related</td>\n",
       "      <td>Y</td>\n",
       "      <td>Y</td>\n",
       "      <td>109.0</td>\n",
       "      <td>00:02:23</td>\n",
       "      <td>3.0</td>\n",
       "      <td>143.0</td>\n",
       "    </tr>\n",
       "    <tr>\n",
       "      <th>2021-01-01</th>\n",
       "      <td>Becky</td>\n",
       "      <td>09:12:58</td>\n",
       "      <td>Technical Support</td>\n",
       "      <td>Y</td>\n",
       "      <td>N</td>\n",
       "      <td>70.0</td>\n",
       "      <td>00:04:02</td>\n",
       "      <td>3.0</td>\n",
       "      <td>242.0</td>\n",
       "    </tr>\n",
       "    <tr>\n",
       "      <th>2021-01-01</th>\n",
       "      <td>Stewart</td>\n",
       "      <td>09:47:31</td>\n",
       "      <td>Contract related</td>\n",
       "      <td>Y</td>\n",
       "      <td>Y</td>\n",
       "      <td>10.0</td>\n",
       "      <td>00:02:11</td>\n",
       "      <td>3.0</td>\n",
       "      <td>131.0</td>\n",
       "    </tr>\n",
       "    <tr>\n",
       "      <th>2021-01-01</th>\n",
       "      <td>Greg</td>\n",
       "      <td>09:47:31</td>\n",
       "      <td>Contract related</td>\n",
       "      <td>Y</td>\n",
       "      <td>Y</td>\n",
       "      <td>53.0</td>\n",
       "      <td>00:00:37</td>\n",
       "      <td>2.0</td>\n",
       "      <td>37.0</td>\n",
       "    </tr>\n",
       "    <tr>\n",
       "      <th>2021-01-01</th>\n",
       "      <td>Becky</td>\n",
       "      <td>10:00:29</td>\n",
       "      <td>Payment related</td>\n",
       "      <td>Y</td>\n",
       "      <td>Y</td>\n",
       "      <td>95.0</td>\n",
       "      <td>00:01:00</td>\n",
       "      <td>3.0</td>\n",
       "      <td>60.0</td>\n",
       "    </tr>\n",
       "  </tbody>\n",
       "</table>\n",
       "</div>"
      ],
      "text/plain": [
       "              agent      time              topic answered (y/n) resolved  \\\n",
       "Date                                                                       \n",
       "2021-01-01    Diane  09:12:58   Contract related              Y        Y   \n",
       "2021-01-01    Becky  09:12:58  Technical Support              Y        N   \n",
       "2021-01-01  Stewart  09:47:31   Contract related              Y        Y   \n",
       "2021-01-01     Greg  09:47:31   Contract related              Y        Y   \n",
       "2021-01-01    Becky  10:00:29    Payment related              Y        Y   \n",
       "\n",
       "            speed of answer in seconds avgtalkduration  satisfaction rating  \\\n",
       "Date                                                                          \n",
       "2021-01-01                       109.0        00:02:23                  3.0   \n",
       "2021-01-01                        70.0        00:04:02                  3.0   \n",
       "2021-01-01                        10.0        00:02:11                  3.0   \n",
       "2021-01-01                        53.0        00:00:37                  2.0   \n",
       "2021-01-01                        95.0        00:01:00                  3.0   \n",
       "\n",
       "            avgtalkduration_seconds  \n",
       "Date                                 \n",
       "2021-01-01                    143.0  \n",
       "2021-01-01                    242.0  \n",
       "2021-01-01                    131.0  \n",
       "2021-01-01                     37.0  \n",
       "2021-01-01                     60.0  "
      ]
     },
     "execution_count": 8,
     "metadata": {},
     "output_type": "execute_result"
    }
   ],
   "source": [
    "# Drop Irrelevant Columns\n",
    "df = df.drop(columns=['call id'])\n",
    "df.head()"
   ]
  },
  {
   "cell_type": "markdown",
   "metadata": {},
   "source": [
    "Before starting my analysis I added some additional columns that will be used in later sections. I defined functions containing IF, ELIF and ELSE statements to determine which category they fall into."
   ]
  },
  {
   "cell_type": "code",
   "execution_count": 9,
   "metadata": {},
   "outputs": [
    {
     "data": {
      "text/html": [
       "<div>\n",
       "<style scoped>\n",
       "    .dataframe tbody tr th:only-of-type {\n",
       "        vertical-align: middle;\n",
       "    }\n",
       "\n",
       "    .dataframe tbody tr th {\n",
       "        vertical-align: top;\n",
       "    }\n",
       "\n",
       "    .dataframe thead th {\n",
       "        text-align: right;\n",
       "    }\n",
       "</style>\n",
       "<table border=\"1\" class=\"dataframe\">\n",
       "  <thead>\n",
       "    <tr style=\"text-align: right;\">\n",
       "      <th></th>\n",
       "      <th>agent</th>\n",
       "      <th>time</th>\n",
       "      <th>topic</th>\n",
       "      <th>answered (y/n)</th>\n",
       "      <th>resolved</th>\n",
       "      <th>speed of answer in seconds</th>\n",
       "      <th>avgtalkduration</th>\n",
       "      <th>satisfaction rating</th>\n",
       "      <th>avgtalkduration_seconds</th>\n",
       "      <th>time_of_day_category</th>\n",
       "    </tr>\n",
       "    <tr>\n",
       "      <th>Date</th>\n",
       "      <th></th>\n",
       "      <th></th>\n",
       "      <th></th>\n",
       "      <th></th>\n",
       "      <th></th>\n",
       "      <th></th>\n",
       "      <th></th>\n",
       "      <th></th>\n",
       "      <th></th>\n",
       "      <th></th>\n",
       "    </tr>\n",
       "  </thead>\n",
       "  <tbody>\n",
       "    <tr>\n",
       "      <th>2021-01-01</th>\n",
       "      <td>Diane</td>\n",
       "      <td>09:12:58</td>\n",
       "      <td>Contract related</td>\n",
       "      <td>Y</td>\n",
       "      <td>Y</td>\n",
       "      <td>109.0</td>\n",
       "      <td>00:02:23</td>\n",
       "      <td>3.0</td>\n",
       "      <td>143.0</td>\n",
       "      <td>Morning</td>\n",
       "    </tr>\n",
       "  </tbody>\n",
       "</table>\n",
       "</div>"
      ],
      "text/plain": [
       "            agent      time             topic answered (y/n) resolved  \\\n",
       "Date                                                                    \n",
       "2021-01-01  Diane  09:12:58  Contract related              Y        Y   \n",
       "\n",
       "            speed of answer in seconds avgtalkduration  satisfaction rating  \\\n",
       "Date                                                                          \n",
       "2021-01-01                       109.0        00:02:23                  3.0   \n",
       "\n",
       "            avgtalkduration_seconds time_of_day_category  \n",
       "Date                                                      \n",
       "2021-01-01                    143.0              Morning  "
      ]
     },
     "execution_count": 9,
     "metadata": {},
     "output_type": "execute_result"
    }
   ],
   "source": [
    "# Ensure in datetime format\n",
    "df['time'] = pd.to_datetime(df['time'], format='%H:%M:%S').dt.time\n",
    "\n",
    "# Define a function to categorise the time\n",
    "def categorise_time(time):\n",
    "    if time >= pd.to_datetime('05:00:00').time() and time < pd.to_datetime('12:00:00').time():\n",
    "        return 'Morning'\n",
    "    elif time >= pd.to_datetime('12:00:00').time() and time < pd.to_datetime('17:00:00').time():\n",
    "        return 'Afternoon'\n",
    "    elif time >= pd.to_datetime('17:00:00').time() and time < pd.to_datetime('21:00:00').time():\n",
    "        return 'Evening'\n",
    "    else:\n",
    "        return 'Night'\n",
    "\n",
    "# Apply the function to create a new column\n",
    "df['time_of_day_category'] = df['time'].apply(categorise_time)\n",
    "\n",
    "df.head(1)"
   ]
  },
  {
   "cell_type": "code",
   "execution_count": 10,
   "metadata": {},
   "outputs": [
    {
     "data": {
      "text/plain": [
       "count    4054.000000\n",
       "mean      224.922792\n",
       "std       111.381555\n",
       "min        30.000000\n",
       "25%       130.000000\n",
       "50%       226.000000\n",
       "75%       319.000000\n",
       "max       420.000000\n",
       "Name: avgtalkduration_seconds, dtype: float64"
      ]
     },
     "execution_count": 10,
     "metadata": {},
     "output_type": "execute_result"
    }
   ],
   "source": [
    "df['avgtalkduration_seconds'].describe()"
   ]
  },
  {
   "cell_type": "markdown",
   "metadata": {},
   "source": [
    "## Section 2 - EDA"
   ]
  },
  {
   "cell_type": "code",
   "execution_count": 11,
   "metadata": {},
   "outputs": [
    {
     "name": "stdout",
     "output_type": "stream",
     "text": [
      "<class 'pandas.core.frame.DataFrame'>\n",
      "Index: 5000 entries, 2021-01-01 to 2021-03-31\n",
      "Data columns (total 10 columns):\n",
      " #   Column                      Non-Null Count  Dtype  \n",
      "---  ------                      --------------  -----  \n",
      " 0   agent                       5000 non-null   object \n",
      " 1   time                        5000 non-null   object \n",
      " 2   topic                       5000 non-null   object \n",
      " 3   answered (y/n)              5000 non-null   object \n",
      " 4   resolved                    5000 non-null   object \n",
      " 5   speed of answer in seconds  4054 non-null   float64\n",
      " 6   avgtalkduration             5000 non-null   object \n",
      " 7   satisfaction rating         4054 non-null   float64\n",
      " 8   avgtalkduration_seconds     4054 non-null   float64\n",
      " 9   time_of_day_category        5000 non-null   object \n",
      "dtypes: float64(3), object(7)\n",
      "memory usage: 429.7+ KB\n"
     ]
    }
   ],
   "source": [
    "df.info()"
   ]
  },
  {
   "cell_type": "code",
   "execution_count": 12,
   "metadata": {},
   "outputs": [
    {
     "data": {
      "text/html": [
       "<div>\n",
       "<style scoped>\n",
       "    .dataframe tbody tr th:only-of-type {\n",
       "        vertical-align: middle;\n",
       "    }\n",
       "\n",
       "    .dataframe tbody tr th {\n",
       "        vertical-align: top;\n",
       "    }\n",
       "\n",
       "    .dataframe thead th {\n",
       "        text-align: right;\n",
       "    }\n",
       "</style>\n",
       "<table border=\"1\" class=\"dataframe\">\n",
       "  <thead>\n",
       "    <tr style=\"text-align: right;\">\n",
       "      <th></th>\n",
       "      <th>speed of answer in seconds</th>\n",
       "      <th>satisfaction rating</th>\n",
       "      <th>avgtalkduration_seconds</th>\n",
       "    </tr>\n",
       "  </thead>\n",
       "  <tbody>\n",
       "    <tr>\n",
       "      <th>count</th>\n",
       "      <td>4054.000000</td>\n",
       "      <td>4054.000000</td>\n",
       "      <td>4054.000000</td>\n",
       "    </tr>\n",
       "    <tr>\n",
       "      <th>mean</th>\n",
       "      <td>67.520720</td>\n",
       "      <td>3.403552</td>\n",
       "      <td>224.922792</td>\n",
       "    </tr>\n",
       "    <tr>\n",
       "      <th>std</th>\n",
       "      <td>33.592872</td>\n",
       "      <td>1.212220</td>\n",
       "      <td>111.381555</td>\n",
       "    </tr>\n",
       "    <tr>\n",
       "      <th>min</th>\n",
       "      <td>10.000000</td>\n",
       "      <td>1.000000</td>\n",
       "      <td>30.000000</td>\n",
       "    </tr>\n",
       "    <tr>\n",
       "      <th>25%</th>\n",
       "      <td>39.000000</td>\n",
       "      <td>3.000000</td>\n",
       "      <td>130.000000</td>\n",
       "    </tr>\n",
       "    <tr>\n",
       "      <th>50%</th>\n",
       "      <td>68.000000</td>\n",
       "      <td>3.000000</td>\n",
       "      <td>226.000000</td>\n",
       "    </tr>\n",
       "    <tr>\n",
       "      <th>75%</th>\n",
       "      <td>97.000000</td>\n",
       "      <td>4.000000</td>\n",
       "      <td>319.000000</td>\n",
       "    </tr>\n",
       "    <tr>\n",
       "      <th>max</th>\n",
       "      <td>125.000000</td>\n",
       "      <td>5.000000</td>\n",
       "      <td>420.000000</td>\n",
       "    </tr>\n",
       "  </tbody>\n",
       "</table>\n",
       "</div>"
      ],
      "text/plain": [
       "       speed of answer in seconds  satisfaction rating  \\\n",
       "count                 4054.000000          4054.000000   \n",
       "mean                    67.520720             3.403552   \n",
       "std                     33.592872             1.212220   \n",
       "min                     10.000000             1.000000   \n",
       "25%                     39.000000             3.000000   \n",
       "50%                     68.000000             3.000000   \n",
       "75%                     97.000000             4.000000   \n",
       "max                    125.000000             5.000000   \n",
       "\n",
       "       avgtalkduration_seconds  \n",
       "count              4054.000000  \n",
       "mean                224.922792  \n",
       "std                 111.381555  \n",
       "min                  30.000000  \n",
       "25%                 130.000000  \n",
       "50%                 226.000000  \n",
       "75%                 319.000000  \n",
       "max                 420.000000  "
      ]
     },
     "execution_count": 12,
     "metadata": {},
     "output_type": "execute_result"
    }
   ],
   "source": [
    "df.describe()"
   ]
  },
  {
   "cell_type": "code",
   "execution_count": 13,
   "metadata": {},
   "outputs": [
    {
     "data": {
      "text/html": [
       "<div>\n",
       "<style scoped>\n",
       "    .dataframe tbody tr th:only-of-type {\n",
       "        vertical-align: middle;\n",
       "    }\n",
       "\n",
       "    .dataframe tbody tr th {\n",
       "        vertical-align: top;\n",
       "    }\n",
       "\n",
       "    .dataframe thead th {\n",
       "        text-align: right;\n",
       "    }\n",
       "</style>\n",
       "<table border=\"1\" class=\"dataframe\">\n",
       "  <thead>\n",
       "    <tr style=\"text-align: right;\">\n",
       "      <th></th>\n",
       "      <th>speed of answer in seconds</th>\n",
       "      <th>avgtalkduration_seconds</th>\n",
       "      <th>satisfaction rating</th>\n",
       "    </tr>\n",
       "  </thead>\n",
       "  <tbody>\n",
       "    <tr>\n",
       "      <th>speed of answer in seconds</th>\n",
       "      <td>1.000000</td>\n",
       "      <td>-0.002898</td>\n",
       "      <td>0.000952</td>\n",
       "    </tr>\n",
       "    <tr>\n",
       "      <th>avgtalkduration_seconds</th>\n",
       "      <td>-0.002898</td>\n",
       "      <td>1.000000</td>\n",
       "      <td>0.000143</td>\n",
       "    </tr>\n",
       "    <tr>\n",
       "      <th>satisfaction rating</th>\n",
       "      <td>0.000952</td>\n",
       "      <td>0.000143</td>\n",
       "      <td>1.000000</td>\n",
       "    </tr>\n",
       "  </tbody>\n",
       "</table>\n",
       "</div>"
      ],
      "text/plain": [
       "                            speed of answer in seconds  \\\n",
       "speed of answer in seconds                    1.000000   \n",
       "avgtalkduration_seconds                      -0.002898   \n",
       "satisfaction rating                           0.000952   \n",
       "\n",
       "                            avgtalkduration_seconds  satisfaction rating  \n",
       "speed of answer in seconds                -0.002898             0.000952  \n",
       "avgtalkduration_seconds                    1.000000             0.000143  \n",
       "satisfaction rating                        0.000143             1.000000  "
      ]
     },
     "execution_count": 13,
     "metadata": {},
     "output_type": "execute_result"
    }
   ],
   "source": [
    "# Compute the correlation matrix \n",
    "columns_to_correlate = ['speed of answer in seconds','avgtalkduration_seconds', 'satisfaction rating']\n",
    "correlation_matrix = df[columns_to_correlate].corr()\n",
    "correlation_matrix"
   ]
  },
  {
   "cell_type": "markdown",
   "metadata": {},
   "source": [
    "## Business Insights - Resolution Rate, Unanswered Calls & Customer Satisfaction\n",
    "For a contact centre the first area of the dataset to analyse is their resolution rate. PWCs resolution rate is currently 73% which is positive but there is definitely some room for improvement. There are two pieces of code below, the first is calculating the resolution % and the other provides a visual.\n",
    "\n",
    "For this visual I wanted to add the counts of \"Y\" and \"N\" in the \"resolved\" column. I figured out how to do this through matplotlib documentation. https://matplotlib.org/stable/api/_as_gen/matplotlib.axes.Axes.bar_label.html\n",
    "\n",
    "Syntax breakdown for ax.bar_label(bars, fmt='%g', fontsize=10) : \"bars\" refers to the bar charts created when executing ax.bar(), \"fmt='g'\" formats the string for a label and \"fontsize\" is self-explanatory.\n",
    "\n"
   ]
  },
  {
   "cell_type": "code",
   "execution_count": 14,
   "metadata": {},
   "outputs": [
    {
     "data": {
      "text/plain": [
       "'Percentage of resolved issues: 73%'"
      ]
     },
     "execution_count": 14,
     "metadata": {},
     "output_type": "execute_result"
    }
   ],
   "source": [
    "# Calculate total issues\n",
    "total_issues = df['resolved'].count()\n",
    "\n",
    "# Count resolved issues\n",
    "resolved_issues = (df['resolved'] == 'Y').sum()\n",
    "\n",
    "# Calculate the percentage\n",
    "percentage_resolved = (resolved_issues / total_issues) * 100\n",
    "\n",
    "(f\"Percentage of resolved issues: {percentage_resolved:.0f}%\")\n"
   ]
  },
  {
   "cell_type": "code",
   "execution_count": 15,
   "metadata": {},
   "outputs": [
    {
     "data": {
      "image/png": "[encoded data removed]",
      "text/plain": [
       "<Figure size 800x600 with 1 Axes>"
      ]
     },
     "metadata": {},
     "output_type": "display_data"
    }
   ],
   "source": [
    "counts = df['resolved'].value_counts()\n",
    "\n",
    "# Create a bar chart\n",
    "fig, ax = plt.subplots(figsize=(8, 6))\n",
    "bars = ax.bar(counts.index, counts.values)\n",
    "\n",
    "# Add count labels to the bars\n",
    "ax.bar_label(bars, fmt='%g', fontsize=10)\n",
    "\n",
    "# Formatting the plot\n",
    "ax.set_title('Resolved Vs Unresolved')\n",
    "ax.set_xlabel('')\n",
    "ax.set_ylabel('# of Calls')\n",
    "ax.grid(axis='y', linestyle='--')\n",
    "\n",
    "plt.show()"
   ]
  },
  {
   "cell_type": "code",
   "execution_count": 33,
   "metadata": {},
   "outputs": [
    {
     "name": "stdout",
     "output_type": "stream",
     "text": [
      "Resolution Rate by Topic:\n",
      " topic\n",
      "Admin Support        74.1\n",
      "Contract related     72.6\n",
      "Payment related      72.4\n",
      "Streaming            73.3\n",
      "Technical Support    72.2\n",
      "Name: resolved, dtype: float64\n",
      "\n",
      "Resolution Rate by Agent:\n",
      " agent\n",
      "Becky      73.2\n",
      "Dan        74.4\n",
      "Diane      71.4\n",
      "Greg       72.9\n",
      "Jim        72.8\n",
      "Joe        73.5\n",
      "Martha     72.3\n",
      "Stewart    72.9\n",
      "Name: resolved, dtype: float64\n",
      "\n",
      "Resolution Rate by Time of Day:\n",
      " time_of_day_category\n",
      "Afternoon    72.5\n",
      "Evening      73.0\n",
      "Morning      73.6\n",
      "Name: resolved, dtype: float64\n"
     ]
    }
   ],
   "source": [
    "# Calculate resolution rates by topic\n",
    "resolution_by_topic = df.groupby('topic')['resolved'].apply(lambda x: (x == 'Y').mean() * 100).round(1)\n",
    "\n",
    "# Calculate resolution rates by agent\n",
    "resolution_by_agent = df.groupby('agent')['resolved'].apply(lambda x: (x == 'Y').mean() * 100).round(1)\n",
    "\n",
    "# Calculate resolution rates by time of day\n",
    "resolution_by_time = df.groupby('time_of_day_category')['resolved'].apply(lambda x: (x == 'Y').mean() * 100).round(1)\n",
    "\n",
    "# Display insights\n",
    "print(\"Resolution Rate by Topic:\\n\", resolution_by_topic)\n",
    "print(\"\\nResolution Rate by Agent:\\n\", resolution_by_agent)\n",
    "print(\"\\nResolution Rate by Time of Day:\\n\", resolution_by_time)\n"
   ]
  },
  {
   "cell_type": "code",
   "execution_count": 37,
   "metadata": {},
   "outputs": [
    {
     "name": "stdout",
     "output_type": "stream",
     "text": [
      "Unanswered Calls by Agent:\n",
      " agent\n",
      "Becky      114\n",
      "Dan        110\n",
      "Diane      132\n",
      "Greg       122\n",
      "Jim        130\n",
      "Joe        109\n",
      "Martha     124\n",
      "Stewart    105\n",
      "dtype: int64\n",
      "\n",
      "Unanswered Calls by Time of Day:\n",
      " time_of_day_category\n",
      "Afternoon    519\n",
      "Evening      110\n",
      "Morning      317\n",
      "dtype: int64\n"
     ]
    }
   ],
   "source": [
    "# Unanswered call rate by agent\n",
    "unanswered_by_agent = df[df['answered (y/n)'] == 'N'].groupby('agent').size()\n",
    "\n",
    "# Unanswered call rate by time of day\n",
    "unanswered_by_time = df[df['answered (y/n)'] == 'N'].groupby('time_of_day_category').size()\n",
    "\n",
    "# Display insights\n",
    "print(\"Unanswered Calls by Agent:\\n\", unanswered_by_agent)\n",
    "print(\"\\nUnanswered Calls by Time of Day:\\n\", unanswered_by_time)\n"
   ]
  },
  {
   "cell_type": "code",
   "execution_count": 35,
   "metadata": {},
   "outputs": [
    {
     "name": "stdout",
     "output_type": "stream",
     "text": [
      "Satisfaction by Resolution:\n",
      " resolved\n",
      "N    3.428922\n",
      "Y    3.400713\n",
      "Name: satisfaction rating, dtype: float64\n",
      "\n",
      "Satisfaction by Topic:\n",
      " topic\n",
      "Admin Support        3.426415\n",
      "Contract related     3.377693\n",
      "Payment related      3.396088\n",
      "Streaming            3.402597\n",
      "Technical Support    3.414907\n",
      "Name: satisfaction rating, dtype: float64\n",
      "\n",
      "Correlation between Call Duration and Satisfaction: 0.00\n"
     ]
    }
   ],
   "source": [
    "# Satisfaction by resolution status\n",
    "satisfaction_by_resolution = df.groupby('resolved')['satisfaction rating'].mean()\n",
    "\n",
    "# Satisfaction by topic\n",
    "satisfaction_by_topic = df.groupby('topic')['satisfaction rating'].mean()\n",
    "\n",
    "# Satisfaction by call duration\n",
    "satisfaction_by_duration = df['avgtalkduration_seconds'].corr(df['satisfaction rating'])\n",
    "\n",
    "# Display insights\n",
    "print(\"Satisfaction by Resolution:\\n\", satisfaction_by_resolution)\n",
    "print(\"\\nSatisfaction by Topic:\\n\", satisfaction_by_topic)\n",
    "print(f\"\\nCorrelation between Call Duration and Satisfaction: {satisfaction_by_duration:.2f}\")\n"
   ]
  },
  {
   "cell_type": "markdown",
   "metadata": {},
   "source": [
    "## Unanswered Calls - Root Cause Analysis\n",
    "\n",
    "In the previous section I used pandas get a better understanding of Resolution Rate, Unanswered Calls & Customer Satisfaction. The results that stood out the most were the time of day related to unanswered calls. Over 50% of the calls were between 12-5PM (Afternoon Category). For this reason in this section I dove deaper into the afternoon data."
   ]
  },
  {
   "cell_type": "code",
   "execution_count": 38,
   "metadata": {},
   "outputs": [
    {
     "data": {
      "text/html": [
       "<div>\n",
       "<style scoped>\n",
       "    .dataframe tbody tr th:only-of-type {\n",
       "        vertical-align: middle;\n",
       "    }\n",
       "\n",
       "    .dataframe tbody tr th {\n",
       "        vertical-align: top;\n",
       "    }\n",
       "\n",
       "    .dataframe thead th {\n",
       "        text-align: right;\n",
       "    }\n",
       "</style>\n",
       "<table border=\"1\" class=\"dataframe\">\n",
       "  <thead>\n",
       "    <tr style=\"text-align: right;\">\n",
       "      <th></th>\n",
       "      <th>agent</th>\n",
       "      <th>time</th>\n",
       "      <th>topic</th>\n",
       "      <th>answered (y/n)</th>\n",
       "      <th>resolved</th>\n",
       "      <th>speed of answer in seconds</th>\n",
       "      <th>avgtalkduration</th>\n",
       "      <th>satisfaction rating</th>\n",
       "      <th>avgtalkduration_seconds</th>\n",
       "      <th>time_of_day_category</th>\n",
       "    </tr>\n",
       "    <tr>\n",
       "      <th>Date</th>\n",
       "      <th></th>\n",
       "      <th></th>\n",
       "      <th></th>\n",
       "      <th></th>\n",
       "      <th></th>\n",
       "      <th></th>\n",
       "      <th></th>\n",
       "      <th></th>\n",
       "      <th></th>\n",
       "      <th></th>\n",
       "    </tr>\n",
       "  </thead>\n",
       "  <tbody>\n",
       "    <tr>\n",
       "      <th>2021-01-01</th>\n",
       "      <td>Diane</td>\n",
       "      <td>09:12:58</td>\n",
       "      <td>Contract related</td>\n",
       "      <td>Y</td>\n",
       "      <td>Y</td>\n",
       "      <td>109.0</td>\n",
       "      <td>00:02:23</td>\n",
       "      <td>3.0</td>\n",
       "      <td>143.0</td>\n",
       "      <td>Morning</td>\n",
       "    </tr>\n",
       "    <tr>\n",
       "      <th>2021-01-01</th>\n",
       "      <td>Becky</td>\n",
       "      <td>09:12:58</td>\n",
       "      <td>Technical Support</td>\n",
       "      <td>Y</td>\n",
       "      <td>N</td>\n",
       "      <td>70.0</td>\n",
       "      <td>00:04:02</td>\n",
       "      <td>3.0</td>\n",
       "      <td>242.0</td>\n",
       "      <td>Morning</td>\n",
       "    </tr>\n",
       "    <tr>\n",
       "      <th>2021-01-01</th>\n",
       "      <td>Stewart</td>\n",
       "      <td>09:47:31</td>\n",
       "      <td>Contract related</td>\n",
       "      <td>Y</td>\n",
       "      <td>Y</td>\n",
       "      <td>10.0</td>\n",
       "      <td>00:02:11</td>\n",
       "      <td>3.0</td>\n",
       "      <td>131.0</td>\n",
       "      <td>Morning</td>\n",
       "    </tr>\n",
       "    <tr>\n",
       "      <th>2021-01-01</th>\n",
       "      <td>Greg</td>\n",
       "      <td>09:47:31</td>\n",
       "      <td>Contract related</td>\n",
       "      <td>Y</td>\n",
       "      <td>Y</td>\n",
       "      <td>53.0</td>\n",
       "      <td>00:00:37</td>\n",
       "      <td>2.0</td>\n",
       "      <td>37.0</td>\n",
       "      <td>Morning</td>\n",
       "    </tr>\n",
       "    <tr>\n",
       "      <th>2021-01-01</th>\n",
       "      <td>Becky</td>\n",
       "      <td>10:00:29</td>\n",
       "      <td>Payment related</td>\n",
       "      <td>Y</td>\n",
       "      <td>Y</td>\n",
       "      <td>95.0</td>\n",
       "      <td>00:01:00</td>\n",
       "      <td>3.0</td>\n",
       "      <td>60.0</td>\n",
       "      <td>Morning</td>\n",
       "    </tr>\n",
       "  </tbody>\n",
       "</table>\n",
       "</div>"
      ],
      "text/plain": [
       "              agent      time              topic answered (y/n) resolved  \\\n",
       "Date                                                                       \n",
       "2021-01-01    Diane  09:12:58   Contract related              Y        Y   \n",
       "2021-01-01    Becky  09:12:58  Technical Support              Y        N   \n",
       "2021-01-01  Stewart  09:47:31   Contract related              Y        Y   \n",
       "2021-01-01     Greg  09:47:31   Contract related              Y        Y   \n",
       "2021-01-01    Becky  10:00:29    Payment related              Y        Y   \n",
       "\n",
       "            speed of answer in seconds avgtalkduration  satisfaction rating  \\\n",
       "Date                                                                          \n",
       "2021-01-01                       109.0        00:02:23                  3.0   \n",
       "2021-01-01                        70.0        00:04:02                  3.0   \n",
       "2021-01-01                        10.0        00:02:11                  3.0   \n",
       "2021-01-01                        53.0        00:00:37                  2.0   \n",
       "2021-01-01                        95.0        00:01:00                  3.0   \n",
       "\n",
       "            avgtalkduration_seconds time_of_day_category  \n",
       "Date                                                      \n",
       "2021-01-01                    143.0              Morning  \n",
       "2021-01-01                    242.0              Morning  \n",
       "2021-01-01                    131.0              Morning  \n",
       "2021-01-01                     37.0              Morning  \n",
       "2021-01-01                     60.0              Morning  "
      ]
     },
     "execution_count": 38,
     "metadata": {},
     "output_type": "execute_result"
    }
   ],
   "source": [
    "df.head()"
   ]
  },
  {
   "cell_type": "markdown",
   "metadata": {},
   "source": [
    "#### Reminder \n",
    "\n",
    "- Check afternoon resolution rate\n",
    "- Are there certain days where individual employees rack up most of their unanswered calls?"
   ]
  },
  {
   "cell_type": "code",
   "execution_count": 69,
   "metadata": {},
   "outputs": [
    {
     "name": "stdout",
     "output_type": "stream",
     "text": [
      "Total afternoon calls by agent\n",
      "       agent time_of_day_category  answered (y/n)\n",
      "12      Jim            Afternoon             362\n",
      "18   Martha            Afternoon             349\n",
      "3       Dan            Afternoon             347\n",
      "15      Joe            Afternoon             346\n",
      "6     Diane            Afternoon             345\n",
      "0     Becky            Afternoon             337\n",
      "21  Stewart            Afternoon             331\n",
      "9      Greg            Afternoon             320\n"
     ]
    }
   ],
   "source": [
    "afternoon_unanswered = df[(df['answered (y/n)'] == 'N') & (df['time_of_day_category'] == \"Afternoon\")]\n",
    "\n",
    "# Afternoon Unanswered Calls by Agent \n",
    "afternoon_unanswered_agent = afternoon_unanswered['agent'].value_counts()\n",
    "\n",
    "# Unanswered Calls by Topic\n",
    "afternoon_unanswered_topic = afternoon_unanswered['topic'].value_counts()\n",
    "\n",
    "# Afternoon Total Calls by Agent\n",
    "all_calls = df.groupby(['agent', 'time_of_day_category'])['answered (y/n)'].count()\n",
    "all_calls_reset = all_calls.reset_index()\n",
    "afternoon_calls = all_calls_reset[all_calls_reset['time_of_day_category'] == 'Afternoon'].sort_values('answered (y/n)', ascending=False)\n",
    "\n",
    "print('Total afternoon calls by agent\\n',afternoon_calls)\n",
    "\n",
    "\n",
    "\n",
    "#print(\"Afternoon unanswered Calls by Agent:\\n\", afternoon_unanswered_agent)\n",
    "#print(\"Afternoon unanswered calls by Topic\", afternoon_unanswered_topic)\n",
    "#print('Total afternoon calls by agent\\n',afternoon_calls)"
   ]
  },
  {
   "cell_type": "code",
   "execution_count": null,
   "metadata": {},
   "outputs": [],
   "source": []
  }
 ],
 "metadata": {
  "kernelspec": {
   "display_name": "Python 3",
   "language": "python",
   "name": "python3"
  },
  "language_info": {
   "codemirror_mode": {
    "name": "ipython",
    "version": 3
   },
   "file_extension": ".py",
   "mimetype": "text/x-python",
   "name": "python",
   "nbconvert_exporter": "python",
   "pygments_lexer": "ipython3",
   "version": "3.11.1"
  }
 },
 "nbformat": 4,
 "nbformat_minor": 2
}
