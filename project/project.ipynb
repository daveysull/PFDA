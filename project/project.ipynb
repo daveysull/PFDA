{
 "cells": [
  {
   "cell_type": "markdown",
   "metadata": {},
   "source": [
    "## PFDA Project - Contact Center Performance Analysis"
   ]
  },
  {
   "cell_type": "code",
   "execution_count": 3,
   "metadata": {},
   "outputs": [],
   "source": [
    "# Import Libraries\n",
    "import pandas as pd\n",
    "import matplotlib.pyplot as plt\n",
    "import seaborn as sns"
   ]
  },
  {
   "cell_type": "code",
   "execution_count": 13,
   "metadata": {},
   "outputs": [
    {
     "data": {
      "text/html": [
       "<div>\n",
       "<style scoped>\n",
       "    .dataframe tbody tr th:only-of-type {\n",
       "        vertical-align: middle;\n",
       "    }\n",
       "\n",
       "    .dataframe tbody tr th {\n",
       "        vertical-align: top;\n",
       "    }\n",
       "\n",
       "    .dataframe thead th {\n",
       "        text-align: right;\n",
       "    }\n",
       "</style>\n",
       "<table border=\"1\" class=\"dataframe\">\n",
       "  <thead>\n",
       "    <tr style=\"text-align: right;\">\n",
       "      <th></th>\n",
       "      <th>Call Id</th>\n",
       "      <th>Agent</th>\n",
       "      <th>Time</th>\n",
       "      <th>Topic</th>\n",
       "      <th>Answered (Y/N)</th>\n",
       "      <th>Resolved</th>\n",
       "      <th>Speed of answer in seconds</th>\n",
       "      <th>AvgTalkDuration</th>\n",
       "      <th>Satisfaction rating</th>\n",
       "    </tr>\n",
       "    <tr>\n",
       "      <th>Date</th>\n",
       "      <th></th>\n",
       "      <th></th>\n",
       "      <th></th>\n",
       "      <th></th>\n",
       "      <th></th>\n",
       "      <th></th>\n",
       "      <th></th>\n",
       "      <th></th>\n",
       "      <th></th>\n",
       "    </tr>\n",
       "  </thead>\n",
       "  <tbody>\n",
       "    <tr>\n",
       "      <th>2021-01-01</th>\n",
       "      <td>ID0001</td>\n",
       "      <td>Diane</td>\n",
       "      <td>09:12:58</td>\n",
       "      <td>Contract related</td>\n",
       "      <td>Y</td>\n",
       "      <td>Y</td>\n",
       "      <td>109.0</td>\n",
       "      <td>00:02:23</td>\n",
       "      <td>3.0</td>\n",
       "    </tr>\n",
       "    <tr>\n",
       "      <th>2021-01-01</th>\n",
       "      <td>ID0002</td>\n",
       "      <td>Becky</td>\n",
       "      <td>09:12:58</td>\n",
       "      <td>Technical Support</td>\n",
       "      <td>Y</td>\n",
       "      <td>N</td>\n",
       "      <td>70.0</td>\n",
       "      <td>00:04:02</td>\n",
       "      <td>3.0</td>\n",
       "    </tr>\n",
       "    <tr>\n",
       "      <th>2021-01-01</th>\n",
       "      <td>ID0003</td>\n",
       "      <td>Stewart</td>\n",
       "      <td>09:47:31</td>\n",
       "      <td>Contract related</td>\n",
       "      <td>Y</td>\n",
       "      <td>Y</td>\n",
       "      <td>10.0</td>\n",
       "      <td>00:02:11</td>\n",
       "      <td>3.0</td>\n",
       "    </tr>\n",
       "    <tr>\n",
       "      <th>2021-01-01</th>\n",
       "      <td>ID0004</td>\n",
       "      <td>Greg</td>\n",
       "      <td>09:47:31</td>\n",
       "      <td>Contract related</td>\n",
       "      <td>Y</td>\n",
       "      <td>Y</td>\n",
       "      <td>53.0</td>\n",
       "      <td>00:00:37</td>\n",
       "      <td>2.0</td>\n",
       "    </tr>\n",
       "    <tr>\n",
       "      <th>2021-01-01</th>\n",
       "      <td>ID0005</td>\n",
       "      <td>Becky</td>\n",
       "      <td>10:00:29</td>\n",
       "      <td>Payment related</td>\n",
       "      <td>Y</td>\n",
       "      <td>Y</td>\n",
       "      <td>95.0</td>\n",
       "      <td>00:01:00</td>\n",
       "      <td>3.0</td>\n",
       "    </tr>\n",
       "  </tbody>\n",
       "</table>\n",
       "</div>"
      ],
      "text/plain": [
       "           Call Id    Agent      Time              Topic Answered (Y/N)  \\\n",
       "Date                                                                      \n",
       "2021-01-01  ID0001    Diane  09:12:58   Contract related              Y   \n",
       "2021-01-01  ID0002    Becky  09:12:58  Technical Support              Y   \n",
       "2021-01-01  ID0003  Stewart  09:47:31   Contract related              Y   \n",
       "2021-01-01  ID0004     Greg  09:47:31   Contract related              Y   \n",
       "2021-01-01  ID0005    Becky  10:00:29    Payment related              Y   \n",
       "\n",
       "           Resolved  Speed of answer in seconds AvgTalkDuration  \\\n",
       "Date                                                              \n",
       "2021-01-01        Y                       109.0        00:02:23   \n",
       "2021-01-01        N                        70.0        00:04:02   \n",
       "2021-01-01        Y                        10.0        00:02:11   \n",
       "2021-01-01        Y                        53.0        00:00:37   \n",
       "2021-01-01        Y                        95.0        00:01:00   \n",
       "\n",
       "            Satisfaction rating  \n",
       "Date                             \n",
       "2021-01-01                  3.0  \n",
       "2021-01-01                  3.0  \n",
       "2021-01-01                  3.0  \n",
       "2021-01-01                  2.0  \n",
       "2021-01-01                  3.0  "
      ]
     },
     "execution_count": 13,
     "metadata": {},
     "output_type": "execute_result"
    }
   ],
   "source": [
    "# Import Data & Set Index\n",
    "df = pd.read_excel('pwc_call_centre_data.xlsx')\n",
    "df.set_index('Date', inplace=True)\n",
    "df.head()"
   ]
  },
  {
   "cell_type": "code",
   "execution_count": 14,
   "metadata": {},
   "outputs": [],
   "source": [
    "# Convert all column names to lowercase\n",
    "df.columns = df.columns.str.lower()\n"
   ]
  },
  {
   "cell_type": "markdown",
   "metadata": {},
   "source": [
    "## Section 1 - Data Cleaning"
   ]
  },
  {
   "cell_type": "markdown",
   "metadata": {},
   "source": [
    "To analyse the data efficiently and see if there is a correlation between speed of answer in seconds and AvgTalkDuration they most both be in seconds. Pandas documentation shows how to convert minutes into seconds https://pandas.pydata.org/docs/reference/api/pandas.Series.dt.total_seconds.html\n",
    "\n",
    "Besides AverageTalkDuration the other data types are in order so no more adjustments to be made."
   ]
  },
  {
   "cell_type": "code",
   "execution_count": 19,
   "metadata": {},
   "outputs": [],
   "source": [
    "# Ensure 'AvgTalkDuration' is in string format\n",
    "df['avgtalkduration'] = df['avgtalkduration'].astype(str)\n",
    "\n",
    "# Convert 'AvgTalkDuration' to seconds\n",
    "df['avgtalkduration_seconds'] = pd.to_timedelta(df['avgtalkduration']).dt.total_seconds()\n"
   ]
  },
  {
   "cell_type": "markdown",
   "metadata": {},
   "source": [
    "There are three columns with 946 null values each. When running df.head(50) there is a clear trend where the null values are coming from, when the call isn't answered. Neither dropna() or fillna() would be benificial for analysis so null values are being kept as is."
   ]
  },
  {
   "cell_type": "code",
   "execution_count": 16,
   "metadata": {},
   "outputs": [
    {
     "data": {
      "text/plain": [
       "call id                         0\n",
       "agent                           0\n",
       "time                            0\n",
       "topic                           0\n",
       "answered (y/n)                  0\n",
       "resolved                        0\n",
       "speed of answer in seconds    946\n",
       "avgtalkduration                 0\n",
       "satisfaction rating           946\n",
       "avgtalkduration_seconds       946\n",
       "dtype: int64"
      ]
     },
     "execution_count": 16,
     "metadata": {},
     "output_type": "execute_result"
    }
   ],
   "source": [
    "# Check are there null values to deal with\n",
    "df.isnull().sum()"
   ]
  },
  {
   "cell_type": "code",
   "execution_count": 22,
   "metadata": {},
   "outputs": [
    {
     "data": {
      "text/plain": [
       "0"
      ]
     },
     "execution_count": 22,
     "metadata": {},
     "output_type": "execute_result"
    }
   ],
   "source": [
    "# Check for duplicates\n",
    "duplicates = df.duplicated().sum()\n",
    "duplicates"
   ]
  },
  {
   "cell_type": "code",
   "execution_count": 28,
   "metadata": {},
   "outputs": [
    {
     "data": {
      "text/html": [
       "<div>\n",
       "<style scoped>\n",
       "    .dataframe tbody tr th:only-of-type {\n",
       "        vertical-align: middle;\n",
       "    }\n",
       "\n",
       "    .dataframe tbody tr th {\n",
       "        vertical-align: top;\n",
       "    }\n",
       "\n",
       "    .dataframe thead th {\n",
       "        text-align: right;\n",
       "    }\n",
       "</style>\n",
       "<table border=\"1\" class=\"dataframe\">\n",
       "  <thead>\n",
       "    <tr style=\"text-align: right;\">\n",
       "      <th></th>\n",
       "      <th>agent</th>\n",
       "      <th>time</th>\n",
       "      <th>topic</th>\n",
       "      <th>answered (y/n)</th>\n",
       "      <th>resolved</th>\n",
       "      <th>speed of answer in seconds</th>\n",
       "      <th>avgtalkduration</th>\n",
       "      <th>satisfaction rating</th>\n",
       "      <th>avgtalkduration_seconds</th>\n",
       "    </tr>\n",
       "    <tr>\n",
       "      <th>Date</th>\n",
       "      <th></th>\n",
       "      <th></th>\n",
       "      <th></th>\n",
       "      <th></th>\n",
       "      <th></th>\n",
       "      <th></th>\n",
       "      <th></th>\n",
       "      <th></th>\n",
       "      <th></th>\n",
       "    </tr>\n",
       "  </thead>\n",
       "  <tbody>\n",
       "    <tr>\n",
       "      <th>2021-01-01</th>\n",
       "      <td>Diane</td>\n",
       "      <td>09:12:58</td>\n",
       "      <td>Contract related</td>\n",
       "      <td>Y</td>\n",
       "      <td>Y</td>\n",
       "      <td>109.0</td>\n",
       "      <td>00:02:23</td>\n",
       "      <td>3.0</td>\n",
       "      <td>143.0</td>\n",
       "    </tr>\n",
       "    <tr>\n",
       "      <th>2021-01-01</th>\n",
       "      <td>Becky</td>\n",
       "      <td>09:12:58</td>\n",
       "      <td>Technical Support</td>\n",
       "      <td>Y</td>\n",
       "      <td>N</td>\n",
       "      <td>70.0</td>\n",
       "      <td>00:04:02</td>\n",
       "      <td>3.0</td>\n",
       "      <td>242.0</td>\n",
       "    </tr>\n",
       "    <tr>\n",
       "      <th>2021-01-01</th>\n",
       "      <td>Stewart</td>\n",
       "      <td>09:47:31</td>\n",
       "      <td>Contract related</td>\n",
       "      <td>Y</td>\n",
       "      <td>Y</td>\n",
       "      <td>10.0</td>\n",
       "      <td>00:02:11</td>\n",
       "      <td>3.0</td>\n",
       "      <td>131.0</td>\n",
       "    </tr>\n",
       "    <tr>\n",
       "      <th>2021-01-01</th>\n",
       "      <td>Greg</td>\n",
       "      <td>09:47:31</td>\n",
       "      <td>Contract related</td>\n",
       "      <td>Y</td>\n",
       "      <td>Y</td>\n",
       "      <td>53.0</td>\n",
       "      <td>00:00:37</td>\n",
       "      <td>2.0</td>\n",
       "      <td>37.0</td>\n",
       "    </tr>\n",
       "    <tr>\n",
       "      <th>2021-01-01</th>\n",
       "      <td>Becky</td>\n",
       "      <td>10:00:29</td>\n",
       "      <td>Payment related</td>\n",
       "      <td>Y</td>\n",
       "      <td>Y</td>\n",
       "      <td>95.0</td>\n",
       "      <td>00:01:00</td>\n",
       "      <td>3.0</td>\n",
       "      <td>60.0</td>\n",
       "    </tr>\n",
       "  </tbody>\n",
       "</table>\n",
       "</div>"
      ],
      "text/plain": [
       "              agent      time              topic answered (y/n) resolved  \\\n",
       "Date                                                                       \n",
       "2021-01-01    Diane  09:12:58   Contract related              Y        Y   \n",
       "2021-01-01    Becky  09:12:58  Technical Support              Y        N   \n",
       "2021-01-01  Stewart  09:47:31   Contract related              Y        Y   \n",
       "2021-01-01     Greg  09:47:31   Contract related              Y        Y   \n",
       "2021-01-01    Becky  10:00:29    Payment related              Y        Y   \n",
       "\n",
       "            speed of answer in seconds avgtalkduration  satisfaction rating  \\\n",
       "Date                                                                          \n",
       "2021-01-01                       109.0        00:02:23                  3.0   \n",
       "2021-01-01                        70.0        00:04:02                  3.0   \n",
       "2021-01-01                        10.0        00:02:11                  3.0   \n",
       "2021-01-01                        53.0        00:00:37                  2.0   \n",
       "2021-01-01                        95.0        00:01:00                  3.0   \n",
       "\n",
       "            avgtalkduration_seconds  \n",
       "Date                                 \n",
       "2021-01-01                    143.0  \n",
       "2021-01-01                    242.0  \n",
       "2021-01-01                    131.0  \n",
       "2021-01-01                     37.0  \n",
       "2021-01-01                     60.0  "
      ]
     },
     "execution_count": 28,
     "metadata": {},
     "output_type": "execute_result"
    }
   ],
   "source": [
    "# Drop Irrelevant Columns\n",
    "df = df.drop(columns=['call id'])\n",
    "df.head()"
   ]
  },
  {
   "cell_type": "markdown",
   "metadata": {},
   "source": [
    "## Section 2 - EDA"
   ]
  },
  {
   "cell_type": "code",
   "execution_count": 5,
   "metadata": {},
   "outputs": [
    {
     "name": "stdout",
     "output_type": "stream",
     "text": [
      "<class 'pandas.core.frame.DataFrame'>\n",
      "Index: 5000 entries, 2021-01-01 to 2021-03-31\n",
      "Data columns (total 9 columns):\n",
      " #   Column                      Non-Null Count  Dtype  \n",
      "---  ------                      --------------  -----  \n",
      " 0   Call Id                     5000 non-null   object \n",
      " 1   Agent                       5000 non-null   object \n",
      " 2   Time                        5000 non-null   object \n",
      " 3   Topic                       5000 non-null   object \n",
      " 4   Answered (Y/N)              5000 non-null   object \n",
      " 5   Resolved                    5000 non-null   object \n",
      " 6   Speed of answer in seconds  4054 non-null   float64\n",
      " 7   AvgTalkDuration             4054 non-null   object \n",
      " 8   Satisfaction rating         4054 non-null   float64\n",
      "dtypes: float64(2), object(7)\n",
      "memory usage: 390.6+ KB\n"
     ]
    }
   ],
   "source": [
    "df.info()"
   ]
  },
  {
   "cell_type": "code",
   "execution_count": 10,
   "metadata": {},
   "outputs": [
    {
     "data": {
      "text/html": [
       "<div>\n",
       "<style scoped>\n",
       "    .dataframe tbody tr th:only-of-type {\n",
       "        vertical-align: middle;\n",
       "    }\n",
       "\n",
       "    .dataframe tbody tr th {\n",
       "        vertical-align: top;\n",
       "    }\n",
       "\n",
       "    .dataframe thead th {\n",
       "        text-align: right;\n",
       "    }\n",
       "</style>\n",
       "<table border=\"1\" class=\"dataframe\">\n",
       "  <thead>\n",
       "    <tr style=\"text-align: right;\">\n",
       "      <th></th>\n",
       "      <th>Speed of answer in seconds</th>\n",
       "      <th>Satisfaction rating</th>\n",
       "      <th>AvgTalkDuration_seconds</th>\n",
       "    </tr>\n",
       "  </thead>\n",
       "  <tbody>\n",
       "    <tr>\n",
       "      <th>count</th>\n",
       "      <td>4054.000000</td>\n",
       "      <td>4054.000000</td>\n",
       "      <td>4054.000000</td>\n",
       "    </tr>\n",
       "    <tr>\n",
       "      <th>mean</th>\n",
       "      <td>67.520720</td>\n",
       "      <td>3.403552</td>\n",
       "      <td>224.922792</td>\n",
       "    </tr>\n",
       "    <tr>\n",
       "      <th>std</th>\n",
       "      <td>33.592872</td>\n",
       "      <td>1.212220</td>\n",
       "      <td>111.381555</td>\n",
       "    </tr>\n",
       "    <tr>\n",
       "      <th>min</th>\n",
       "      <td>10.000000</td>\n",
       "      <td>1.000000</td>\n",
       "      <td>30.000000</td>\n",
       "    </tr>\n",
       "    <tr>\n",
       "      <th>25%</th>\n",
       "      <td>39.000000</td>\n",
       "      <td>3.000000</td>\n",
       "      <td>130.000000</td>\n",
       "    </tr>\n",
       "    <tr>\n",
       "      <th>50%</th>\n",
       "      <td>68.000000</td>\n",
       "      <td>3.000000</td>\n",
       "      <td>226.000000</td>\n",
       "    </tr>\n",
       "    <tr>\n",
       "      <th>75%</th>\n",
       "      <td>97.000000</td>\n",
       "      <td>4.000000</td>\n",
       "      <td>319.000000</td>\n",
       "    </tr>\n",
       "    <tr>\n",
       "      <th>max</th>\n",
       "      <td>125.000000</td>\n",
       "      <td>5.000000</td>\n",
       "      <td>420.000000</td>\n",
       "    </tr>\n",
       "  </tbody>\n",
       "</table>\n",
       "</div>"
      ],
      "text/plain": [
       "       Speed of answer in seconds  Satisfaction rating  \\\n",
       "count                 4054.000000          4054.000000   \n",
       "mean                    67.520720             3.403552   \n",
       "std                     33.592872             1.212220   \n",
       "min                     10.000000             1.000000   \n",
       "25%                     39.000000             3.000000   \n",
       "50%                     68.000000             3.000000   \n",
       "75%                     97.000000             4.000000   \n",
       "max                    125.000000             5.000000   \n",
       "\n",
       "       AvgTalkDuration_seconds  \n",
       "count              4054.000000  \n",
       "mean                224.922792  \n",
       "std                 111.381555  \n",
       "min                  30.000000  \n",
       "25%                 130.000000  \n",
       "50%                 226.000000  \n",
       "75%                 319.000000  \n",
       "max                 420.000000  "
      ]
     },
     "execution_count": 10,
     "metadata": {},
     "output_type": "execute_result"
    }
   ],
   "source": [
    "df.describe()"
   ]
  },
  {
   "cell_type": "markdown",
   "metadata": {},
   "source": [
    "## Resolution Rate\n",
    "For a contact centre the first area of the dataset to analyse is their resolution rate. PWCs resolution rate is currently 73% which is positive but there is definitely some room for improvement. There are two pieces of code below, the first is calculating the resolution % and the other provides a visual.\n",
    "\n",
    "For this visual I wanted to add the counts of \"Y\" and \"N\" in the \"resolved\" column. I figured out how to do this through matplotlib documentation. https://matplotlib.org/stable/api/_as_gen/matplotlib.axes.Axes.bar_label.html\n",
    "\n",
    "Syntax breakdown for ax.bar_label(bars, fmt='%g', fontsize=10) : \"bars\" refers to the bar charts created when executing ax.bar(), \"fmt='g'\" formats the string for a label and \"fontsize\" is self-explanatory.\n",
    "\n"
   ]
  },
  {
   "cell_type": "code",
   "execution_count": 69,
   "metadata": {},
   "outputs": [
    {
     "data": {
      "text/plain": [
       "'Percentage of resolved issues: 73%'"
      ]
     },
     "execution_count": 69,
     "metadata": {},
     "output_type": "execute_result"
    }
   ],
   "source": [
    "# Calculate total issues\n",
    "total_issues = df['resolved'].count()\n",
    "\n",
    "# Count resolved issues\n",
    "resolved_issues = (df['resolved'] == 'Y').sum()\n",
    "\n",
    "# Calculate the percentage\n",
    "percentage_resolved = (resolved_issues / total_issues) * 100\n",
    "\n",
    "(f\"Percentage of resolved issues: {percentage_resolved:.0f}%\")\n"
   ]
  },
  {
   "cell_type": "code",
   "execution_count": 50,
   "metadata": {},
   "outputs": [
    {
     "data": {
      "image/png": "[encoded data removed]",
      "text/plain": [
       "<Figure size 800x600 with 1 Axes>"
      ]
     },
     "metadata": {},
     "output_type": "display_data"
    }
   ],
   "source": [
    "counts = df['resolved'].value_counts()\n",
    "\n",
    "# Create a bar chart\n",
    "fig, ax = plt.subplots(figsize=(8, 6))\n",
    "bars = ax.bar(counts.index, counts.values)\n",
    "\n",
    "# Add count labels to the bars\n",
    "ax.bar_label(bars, fmt='%g', fontsize=10)\n",
    "\n",
    "# Formatting the plot\n",
    "ax.set_title('Resolved Vs Unresolved')\n",
    "ax.set_xlabel('')\n",
    "ax.set_ylabel('# of Calls')\n",
    "ax.grid(axis='y', linestyle='--')\n",
    "\n",
    "plt.show()"
   ]
  },
  {
   "cell_type": "markdown",
   "metadata": {},
   "source": [
    "When looking at the topics and there frequency there isn't a massive outlier. Streaming is the most frequent topic narrowly ahead of technical support. Next step is to see the breakdown of what's being resolved and what's not."
   ]
  },
  {
   "cell_type": "code",
   "execution_count": 30,
   "metadata": {},
   "outputs": [
    {
     "data": {
      "text/plain": [
       "topic\n",
       "Streaming            1022\n",
       "Technical Support    1019\n",
       "Payment related      1007\n",
       "Contract related      976\n",
       "Admin Support         976\n",
       "Name: count, dtype: int64"
      ]
     },
     "execution_count": 30,
     "metadata": {},
     "output_type": "execute_result"
    }
   ],
   "source": [
    "# Count the occurrences of each unique topic\n",
    "topic_counts = df['topic'].value_counts()\n",
    "topic_counts"
   ]
  },
  {
   "cell_type": "markdown",
   "metadata": {},
   "source": [
    "There doesn't appear to be any outliers in terms of topics or agents as well when it comes to unresolved issues. However, looking at the number of null values (946) in the data cleaning section there might be some insights once they are removed."
   ]
  },
  {
   "cell_type": "code",
   "execution_count": 51,
   "metadata": {},
   "outputs": [
    {
     "name": "stdout",
     "output_type": "stream",
     "text": [
      "topic\n",
      "Technical Support    283\n",
      "Payment related      278\n",
      "Streaming            273\n",
      "Contract related     267\n",
      "Admin Support        253\n",
      "dtype: int64\n"
     ]
    }
   ],
   "source": [
    "# Is there a certain 'topic' that is driving the number of unresolved issues?\n",
    "\n",
    "# Filter rows where 'resolved' is 'N' (unresolved issues)\n",
    "unresolved_df = df[df['resolved'] == 'N']\n",
    "\n",
    "# Group by the 'topic' column and count unresolved issues\n",
    "unresolved_counts = unresolved_df.groupby('topic').size()\n",
    "\n",
    "# Sort the counts in descending order\n",
    "unresolved_counts_sorted = unresolved_counts.sort_values(ascending=False)\n",
    "\n",
    "# Display the result\n",
    "unresolved_counts_sorted\n"
   ]
  },
  {
   "cell_type": "code",
   "execution_count": 53,
   "metadata": {},
   "outputs": [
    {
     "data": {
      "text/plain": [
       "agent\n",
       "Diane      181\n",
       "Jim        181\n",
       "Martha     177\n",
       "Becky      169\n",
       "Greg       169\n",
       "Dan        162\n",
       "Stewart    158\n",
       "Joe        157\n",
       "dtype: int64"
      ]
     },
     "execution_count": 53,
     "metadata": {},
     "output_type": "execute_result"
    }
   ],
   "source": [
    "# Is there a certain 'agent' that is driving the number of unresolved issues?\n",
    "\n",
    "# Group by the 'count' column and count unresolved issues\n",
    "unresolved_counts_agents = unresolved_df.groupby('agent').size()\n",
    "\n",
    "# Sort the counts in descending order\n",
    "unresolved_counts_agents_sorted = unresolved_counts_agents.sort_values(ascending=False)\n",
    "\n",
    "# Display the result\n",
    "unresolved_counts_agents_sorted\n"
   ]
  },
  {
   "cell_type": "markdown",
   "metadata": {},
   "source": [
    "## Resolution Rate - Excluding Calls Not Answered\n",
    "Here I am performing the same steps as above but with Null Values excluded to see how much things change. The biggest change as you can imagine is in the resolution rate going from 73% to 90%. There still isn't one agent or topic that is driving the 10% of unresolved calls so in the next section I look at the data related to unanswered calls as this is what's driving the majority of unresolved issues."
   ]
  },
  {
   "cell_type": "code",
   "execution_count": 58,
   "metadata": {},
   "outputs": [],
   "source": [
    "# Create a DF with null values excluded\n",
    "clean_df = df.dropna()"
   ]
  },
  {
   "cell_type": "code",
   "execution_count": 68,
   "metadata": {},
   "outputs": [
    {
     "data": {
      "text/plain": [
       "'Percentage of resolved issues: 90%'"
      ]
     },
     "execution_count": 68,
     "metadata": {},
     "output_type": "execute_result"
    }
   ],
   "source": [
    "# Calculate total issues\n",
    "total_issues = clean_df['resolved'].count()\n",
    "\n",
    "# Count resolved issues\n",
    "resolved_issues = (clean_df['resolved'] == 'Y').sum()\n",
    "\n",
    "# Calculate the percentage\n",
    "percentage_resolved = (resolved_issues / total_issues) * 100\n",
    "\n",
    "(f\"Percentage of resolved issues: {percentage_resolved:.0f}%\")"
   ]
  },
  {
   "cell_type": "code",
   "execution_count": 70,
   "metadata": {},
   "outputs": [
    {
     "data": {
      "image/png": "[encoded data removed]",
      "text/plain": [
       "<Figure size 800x600 with 1 Axes>"
      ]
     },
     "metadata": {},
     "output_type": "display_data"
    }
   ],
   "source": [
    "counts = clean_df['resolved'].value_counts()\n",
    "\n",
    "# Create a bar chart\n",
    "fig, ax = plt.subplots(figsize=(8, 6))\n",
    "bars = ax.bar(counts.index, counts.values)\n",
    "\n",
    "# Add count labels to the bars\n",
    "ax.bar_label(bars, fmt='%g', fontsize=10)\n",
    "\n",
    "# Formatting the plot\n",
    "ax.set_title('Resolved Vs Unresolved - When Calls are Answered')\n",
    "ax.set_xlabel('')\n",
    "ax.set_ylabel('# of Calls')\n",
    "ax.grid(axis='y', linestyle='--')\n",
    "\n",
    "plt.show()"
   ]
  },
  {
   "cell_type": "code",
   "execution_count": 75,
   "metadata": {},
   "outputs": [
    {
     "data": {
      "text/plain": [
       "topic\n",
       "Streaming            98\n",
       "Payment related      89\n",
       "Contract related     80\n",
       "Admin Support        72\n",
       "Technical Support    69\n",
       "dtype: int64"
      ]
     },
     "execution_count": 75,
     "metadata": {},
     "output_type": "execute_result"
    }
   ],
   "source": [
    "# Filter rows where 'resolved' is 'N' (unresolved issues)\n",
    "unresolved_clean_df = clean_df[clean_df['resolved'] == 'N']\n",
    "\n",
    "# Group by the 'topic' column and count unresolved issues\n",
    "unresolved_counts_clean = unresolved_clean_df.groupby('topic').size()\n",
    "\n",
    "unresolved_counts_clean.sort_values(ascending=False)\n"
   ]
  },
  {
   "cell_type": "code",
   "execution_count": 76,
   "metadata": {},
   "outputs": [
    {
     "data": {
      "text/plain": [
       "agent\n",
       "Becky      55\n",
       "Martha     53\n",
       "Stewart    53\n",
       "Dan        52\n",
       "Jim        51\n",
       "Diane      49\n",
       "Joe        48\n",
       "Greg       47\n",
       "dtype: int64"
      ]
     },
     "execution_count": 76,
     "metadata": {},
     "output_type": "execute_result"
    }
   ],
   "source": [
    "clean_count_agent = unresolved_clean_df.groupby('agent').size()\n",
    "\n",
    "clean_count_agent.sort_values(ascending=False)"
   ]
  },
  {
   "cell_type": "markdown",
   "metadata": {},
   "source": [
    "## Unanswered Calls"
   ]
  },
  {
   "cell_type": "code",
   "execution_count": 55,
   "metadata": {},
   "outputs": [
    {
     "data": {
      "image/png": "[encoded data removed]",
      "text/plain": [
       "<Figure size 800x600 with 1 Axes>"
      ]
     },
     "metadata": {},
     "output_type": "display_data"
    }
   ],
   "source": [
    "unanswered_calls_df = df[df[\"answered (y/n)\"]=='N']\n",
    "\n",
    "unanswered_counts = unanswered_calls_df['agent'].value_counts()\n",
    "\n",
    "# Create a bar chart\n",
    "fig, ax = plt.subplots(figsize=(8, 6))\n",
    "bars = ax.bar(unanswered_counts.index, unanswered_counts.values)\n",
    "\n",
    "# Add count labels to the bars\n",
    "ax.bar_label(bars, fmt='%g', fontsize=10)\n",
    "\n",
    "# Formatting the plot\n",
    "ax.set_title('Resolved Vs Unresolved')\n",
    "ax.set_xlabel('')\n",
    "ax.set_ylabel('# of Calls')\n",
    "ax.grid(axis='y', linestyle='--')\n",
    "\n",
    "plt.show()"
   ]
  }
 ],
 "metadata": {
  "kernelspec": {
   "display_name": "Python 3",
   "language": "python",
   "name": "python3"
  },
  "language_info": {
   "codemirror_mode": {
    "name": "ipython",
    "version": 3
   },
   "file_extension": ".py",
   "mimetype": "text/x-python",
   "name": "python",
   "nbconvert_exporter": "python",
   "pygments_lexer": "ipython3",
   "version": "3.11.1"
  }
 },
 "nbformat": 4,
 "nbformat_minor": 2
}
